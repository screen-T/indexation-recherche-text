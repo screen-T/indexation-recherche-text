{
  "cells": [
    {
      "cell_type": "markdown",
      "metadata": {
        "id": "view-in-github",
        "colab_type": "text"
      },
      "source": [
        "<a href=\"https://colab.research.google.com/github/screen-T/indexation-recherche-text/blob/main/main.ipynb\" target=\"_parent\"><img src=\"https://colab.research.google.com/assets/colab-badge.svg\" alt=\"Open In Colab\"/></a>"
      ]
    },
    {
      "cell_type": "code",
      "source": [
        "pip install --user nltk"
      ],
      "metadata": {
        "id": "9kIer317mdPG"
      },
      "execution_count": null,
      "outputs": []
    },
    {
      "cell_type": "code",
      "source": [
        "import nltk"
      ],
      "metadata": {
        "id": "8kvxZkuup7U1"
      },
      "execution_count": 26,
      "outputs": []
    },
    {
      "cell_type": "code",
      "source": [
        "nltk.download()"
      ],
      "metadata": {
        "id": "3DODi4bHqCmc"
      },
      "execution_count": null,
      "outputs": []
    },
    {
      "cell_type": "markdown",
      "source": [
        " **Split Token**"
      ],
      "metadata": {
        "id": "ktS8oIGoxUaP"
      }
    },
    {
      "cell_type": "code",
      "source": [
        "nltk.download('stopwords')\n",
        "from nltk.corpus import stopwords"
      ],
      "metadata": {
        "id": "Dg2dFQiXstXx"
      },
      "execution_count": null,
      "outputs": []
    },
    {
      "cell_type": "code",
      "source": [
        "import re\n",
        "\"this is a test for text based search\".split()\n",
        "re.split(\" \",\"this is a test for text based Search\")"
      ],
      "metadata": {
        "id": "BzGvc-nVq6VD"
      },
      "execution_count": null,
      "outputs": []
    },
    {
      "cell_type": "markdown",
      "source": [
        "**case sens**"
      ],
      "metadata": {
        "id": "8pR_3FaoxKVZ"
      }
    },
    {
      "cell_type": "code",
      "source": [
        "\"This is a Test for text Based search\".lower().split()"
      ],
      "metadata": {
        "id": "D7hDQiZHrnqM"
      },
      "execution_count": null,
      "outputs": []
    },
    {
      "cell_type": "markdown",
      "source": [
        "**Stemming**"
      ],
      "metadata": {
        "id": "QqIKJiSvxhQw"
      }
    },
    {
      "cell_type": "code",
      "source": [
        "from nltk.stem.porter import PorterStemmer\n",
        "stm=PorterStemmer()\n",
        "k=[stm.stem(token) for token in [\"developed\",\"develop\",\"developing\"]] \n",
        "print(k)"
      ],
      "metadata": {
        "colab": {
          "base_uri": "https://localhost:8080/"
        },
        "id": "nwpTUYiFtrYK",
        "outputId": "76ca5a52-9dc1-4d00-c17f-edf6eba2da01"
      },
      "execution_count": 34,
      "outputs": [
        {
          "output_type": "stream",
          "name": "stdout",
          "text": [
            "['develop', 'develop', 'develop']\n"
          ]
        }
      ]
    },
    {
      "cell_type": "markdown",
      "source": [
        "**Stop Words**"
      ],
      "metadata": {
        "id": "9UlZqVRNxpCn"
      }
    },
    {
      "cell_type": "code",
      "source": [
        "k=[]\n",
        "tokens=\"This is a Test for text Based search\".lower().split()\n",
        "for t in tokens:\n",
        "  if t not in [\"a\",\"is\",\"for\",\"this\"]:\n",
        "    k.append(t) ; \n",
        "print(k)"
      ],
      "metadata": {
        "colab": {
          "base_uri": "https://localhost:8080/"
        },
        "id": "VQV7toK3u4iw",
        "outputId": "78271032-3dbe-42f3-aaa5-8bc5b1bdaca8"
      },
      "execution_count": null,
      "outputs": [
        {
          "output_type": "stream",
          "name": "stdout",
          "text": [
            "['test', 'text', 'based', 'search']\n"
          ]
        }
      ]
    },
    {
      "cell_type": "markdown",
      "source": [
        "# un programe qui permet de lire une fichier .txt d’effectuer les operations suivantes: \n",
        "• Extraction des mots \n",
        "• Suppression des stop-words \n",
        "• Réecriture des mots en minuscule \n",
        "• Supprime les valeurs numeriques et les dates \n",
        "• Racinisation (stemming) en utilisant l’algorithme de Porter \n",
        "• Enregistrement du résultat dans un fichier nommé sortie.txt"
      ],
      "metadata": {
        "id": "mifgQtY5kcPk"
      }
    },
    {
      "cell_type": "markdown",
      "source": [
        "**extraction des mots du fichier test**"
      ],
      "metadata": {
        "id": "nhhMEG9RnZJZ"
      }
    },
    {
      "cell_type": "code",
      "source": [
        "\n",
        "\n",
        "def token(f):\n",
        "  tokens=[]\n",
        "  temp=[]\n",
        "  for i in f: \n",
        "    temp.append(i.split())\n",
        "    for j in temp:\n",
        "      for c in j:\n",
        "        tokens.append(c)\n",
        "  return tokens\n",
        "\n",
        "tokens=token(f)\n",
        "print(tokens)"
      ],
      "metadata": {
        "id": "QDW86eBslLlr"
      },
      "execution_count": null,
      "outputs": []
    },
    {
      "cell_type": "markdown",
      "source": [
        "**supprimer les \"stop-words\"**"
      ],
      "metadata": {
        "id": "6UdTMQAgqAjP"
      }
    },
    {
      "cell_type": "code",
      "source": [
        "def StopWordsRemove(tokens):\n",
        "  resultat=[]\n",
        "  for token in tokens:\n",
        "    if token not in stopwords.words('french'):\n",
        "      resultat.append(token)\n",
        "  return resultat \n",
        "cleanText=StopWordsRemove(tokens)\n",
        "print(cleanText)"
      ],
      "metadata": {
        "id": "pJDXe4QAnfUZ"
      },
      "execution_count": null,
      "outputs": []
    },
    {
      "cell_type": "markdown",
      "source": [
        "**ecrire les mots en muniscule**"
      ],
      "metadata": {
        "id": "irDkY8urp0l-"
      }
    },
    {
      "cell_type": "code",
      "source": [
        "def lower(text):\n",
        "  resultat=[]\n",
        "  for i in text: \n",
        "    resultat.append(i.lower())\n",
        "  return resultat\n",
        "lowerCleanText=lower(cleanText)\n",
        "print(lowerCleanText)"
      ],
      "metadata": {
        "id": "KLbMCvaYpzun"
      },
      "execution_count": null,
      "outputs": []
    },
    {
      "cell_type": "markdown",
      "source": [
        "**suprimer les date et les numeros**"
      ],
      "metadata": {
        "id": "9KgPWAtqqzdI"
      }
    },
    {
      "cell_type": "code",
      "source": [
        "def numbersRemove(tokens):\n",
        "  resultat=[]\n",
        "  for i in tokens:\n",
        "    if not re.match(\"^[0-9]\",i):\n",
        "      resultat.append(i)\n",
        "  return resultat\n",
        "textWithoutNum=numbersRemove(lowerCleanText)\n",
        "print(textWithoutNum)"
      ],
      "metadata": {
        "id": "ZDvib6rq0qer"
      },
      "execution_count": null,
      "outputs": []
    },
    {
      "cell_type": "markdown",
      "source": [
        "**Racinisation**"
      ],
      "metadata": {
        "id": "9FioT-cN7jwI"
      }
    },
    {
      "cell_type": "code",
      "source": [
        "stemmed_tokens = [stm.stem(token) for token in textWithoutNum]\n",
        "temp=set(stemmed_tokens)\n",
        "stemmed_tokens=list(temp)\n",
        "print(stemmed_tokens)\n"
      ],
      "metadata": {
        "id": "Rt5PS0sO7oX1"
      },
      "execution_count": null,
      "outputs": []
    },
    {
      "cell_type": "markdown",
      "source": [
        "**enregistrement**"
      ],
      "metadata": {
        "id": "RM7PS-zp9TG-"
      }
    },
    {
      "cell_type": "code",
      "source": [
        "s=open(\"/content/sample_data/sortie.txt\",\"w\")\n",
        "k=\"\"\n",
        "for i in stemmed_tokens:\n",
        "  k=k+\" \"+i\n",
        "print(k)\n",
        "s.write(k)"
      ],
      "metadata": {
        "colab": {
          "base_uri": "https://localhost:8080/"
        },
        "id": "qEP74nOe9bmD",
        "outputId": "3363defc-f52b-406f-adcd-9393ebe818ad"
      },
      "execution_count": 62,
      "outputs": [
        {
          "output_type": "stream",
          "name": "stdout",
          "text": [
            " villag bomb quelqu chapel terrass quatorz javel coloni mourez. a trouvé apatrid papier café soleil boumian prise autr tunisien déporté visag vill barcelon expatrié aujourd’hui fait esclav lointain fer juillet innoc naturalisé embauché vie marai autrefoi franco labour mer grenel retourné baignez doré do capital pay incendiair bout pari brûleur vôtre vivez souvenir homm ordur couteaux trop kabyl cordonni templ soutier désoeuvré jongleur franc vieill enfant sénégal beau joli rosier où finisterr baléar grandi vite cadencé oiseaux bastil tôt cobay dormez étrang rue peu retour on étranger plié noir grand tiraillé fêter si tou soir parqué dragon saint-ouen locaux quai navarr mort disciplinair petit évoquez indochinoi liberté débauché cigar allé vendiez pie rizièr terr mal milieu défendu dépatrié polack écho bien avoir chaqu forêt port manoeuvr d’une fil adolesc boît vou musicien venez d’or pêcheur d’aubervilli renvoyé monnai bord rescapé d’itali ébouillanteur doux cordou bête fréju\n"
          ]
        },
        {
          "output_type": "execute_result",
          "data": {
            "text/plain": [
              "990"
            ]
          },
          "metadata": {},
          "execution_count": 62
        }
      ]
    }
  ],
  "metadata": {
    "colab": {
      "name": "Bienvenue dans Colaboratory",
      "provenance": [],
      "include_colab_link": true
    },
    "kernelspec": {
      "display_name": "Python 3",
      "name": "python3"
    }
  },
  "nbformat": 4,
  "nbformat_minor": 0
}