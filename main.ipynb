{
  "cells": [
    {
      "cell_type": "markdown",
      "metadata": {
        "id": "view-in-github",
        "colab_type": "text"
      },
      "source": [
        "<a href=\"https://colab.research.google.com/github/screen-T/indexation-recherche-text/blob/main/main.ipynb\" target=\"_parent\"><img src=\"https://colab.research.google.com/assets/colab-badge.svg\" alt=\"Open In Colab\"/></a>"
      ]
    },
    {
      "cell_type": "code",
      "source": [
        "pip install --user nltk"
      ],
      "metadata": {
        "id": "9kIer317mdPG"
      },
      "execution_count": null,
      "outputs": []
    },
    {
      "cell_type": "code",
      "source": [
        "import nltk"
      ],
      "metadata": {
        "id": "8kvxZkuup7U1"
      },
      "execution_count": 2,
      "outputs": []
    },
    {
      "cell_type": "code",
      "source": [
        "nltk.download()"
      ],
      "metadata": {
        "id": "3DODi4bHqCmc"
      },
      "execution_count": null,
      "outputs": []
    },
    {
      "cell_type": "markdown",
      "source": [
        " **Split Token**"
      ],
      "metadata": {
        "id": "ktS8oIGoxUaP"
      }
    },
    {
      "cell_type": "code",
      "source": [
        "import re\n",
        "\"this is a test for text based search\".split()\n",
        "re.split(\" \",\"this is a test for text based Search\")"
      ],
      "metadata": {
        "colab": {
          "base_uri": "https://localhost:8080/"
        },
        "id": "BzGvc-nVq6VD",
        "outputId": "3f849311-c8e6-4e5b-aec3-5b4db7158a3b"
      },
      "execution_count": 12,
      "outputs": [
        {
          "output_type": "execute_result",
          "data": {
            "text/plain": [
              "['this', 'is', 'a', 'test', 'for', 'text', 'based', 'search']"
            ]
          },
          "metadata": {},
          "execution_count": 12
        }
      ]
    },
    {
      "cell_type": "markdown",
      "source": [
        "**case sens**"
      ],
      "metadata": {
        "id": "8pR_3FaoxKVZ"
      }
    },
    {
      "cell_type": "code",
      "source": [
        "\"This is a Test for text Based search\".lower().split()"
      ],
      "metadata": {
        "colab": {
          "base_uri": "https://localhost:8080/"
        },
        "id": "D7hDQiZHrnqM",
        "outputId": "9bf6cd5b-5a8b-49be-a72b-558f4decb3ec"
      },
      "execution_count": 13,
      "outputs": [
        {
          "output_type": "execute_result",
          "data": {
            "text/plain": [
              "['this', 'is', 'a', 'test', 'for', 'text', 'based', 'search']"
            ]
          },
          "metadata": {},
          "execution_count": 13
        }
      ]
    },
    {
      "cell_type": "markdown",
      "source": [
        "**Stemming**"
      ],
      "metadata": {
        "id": "QqIKJiSvxhQw"
      }
    },
    {
      "cell_type": "code",
      "source": [
        "from nltk.stem.porter import PorterStemmer\n",
        "stm=PorterStemmer()\n",
        "k=[stm.stem(token) for token in [\"developed\",\"develop\",\"developing\"]] \n",
        "print(k)"
      ],
      "metadata": {
        "colab": {
          "base_uri": "https://localhost:8080/"
        },
        "id": "nwpTUYiFtrYK",
        "outputId": "d8dd989f-0619-4456-c765-75b1137c150a"
      },
      "execution_count": 18,
      "outputs": [
        {
          "output_type": "stream",
          "name": "stdout",
          "text": [
            "['develop', 'develop', 'develop']\n"
          ]
        }
      ]
    },
    {
      "cell_type": "markdown",
      "source": [
        "**Stop Words**"
      ],
      "metadata": {
        "id": "9UlZqVRNxpCn"
      }
    },
    {
      "cell_type": "code",
      "source": [
        "k=[]\n",
        "tokens=\"This is a Test for text Based search\".lower().split()\n",
        "for t in tokens:\n",
        "  if t not in [\"a\",\"is\",\"for\",\"this\"]:\n",
        "    k.append(t) ; \n",
        "print(k)"
      ],
      "metadata": {
        "colab": {
          "base_uri": "https://localhost:8080/"
        },
        "id": "VQV7toK3u4iw",
        "outputId": "78271032-3dbe-42f3-aaa5-8bc5b1bdaca8"
      },
      "execution_count": 22,
      "outputs": [
        {
          "output_type": "stream",
          "name": "stdout",
          "text": [
            "['test', 'text', 'based', 'search']\n"
          ]
        }
      ]
    }
  ],
  "metadata": {
    "colab": {
      "name": "Bienvenue dans Colaboratory",
      "toc_visible": true,
      "provenance": [],
      "include_colab_link": true
    },
    "kernelspec": {
      "display_name": "Python 3",
      "name": "python3"
    }
  },
  "nbformat": 4,
  "nbformat_minor": 0
}