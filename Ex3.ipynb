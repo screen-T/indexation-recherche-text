{
  "nbformat": 4,
  "nbformat_minor": 0,
  "metadata": {
    "colab": {
      "provenance": [],
      "include_colab_link": true
    },
    "kernelspec": {
      "name": "python3",
      "display_name": "Python 3"
    },
    "language_info": {
      "name": "python"
    }
  },
  "cells": [
    {
      "cell_type": "markdown",
      "metadata": {
        "id": "view-in-github",
        "colab_type": "text"
      },
      "source": [
        "<a href=\"https://colab.research.google.com/github/screen-T/indexation-recherche-text/blob/main/Ex3.ipynb\" target=\"_parent\"><img src=\"https://colab.research.google.com/assets/colab-badge.svg\" alt=\"Open In Colab\"/></a>"
      ]
    },
    {
      "cell_type": "code",
      "execution_count": null,
      "metadata": {
        "id": "9PCM7br9dy65"
      },
      "outputs": [],
      "source": []
    },
    {
      "cell_type": "markdown",
      "source": [
        "  **INTRODUCTION**\n",
        "ce TP consite à développer un système de recherche d'information dans des documents. \n",
        "Le traitement du langage naturel est effectué en utilisant des bibliothèques dédiés de la suite NLTK. \n",
        "NLTK (Natural Language ToolKit) offre une suite de bibliothèques et de programmes pour le traitement du langage naturel en **Python**. \n",
        "Il faut visiter le site nltk.org pour reconnaitre les différentes bibliothèques qu'on va exploiter certains d'entre eux durant ce TP. "
      ],
      "metadata": {
        "id": "TaeR05t1ZUlQ"
      }
    },
    {
      "cell_type": "markdown",
      "source": [
        "**Environnement de travail**\n",
        "On va utiliser le langage Python, \n",
        "Vous pouvez: \n",
        "1- Installer Anaconda\n",
        "ou \n",
        "2- Installer Jupyter (utiliser la commande pip à chaque fois pour installer les packages)\n",
        "ou\n",
        "3- Travailler sur Jupyter en ligne\n",
        "ou\n",
        "4-Travailler sur Google Collab"
      ],
      "metadata": {
        "id": "YSLXf6QQawvx"
      }
    },
    {
      "cell_type": "markdown",
      "source": [
        "**Exercice 1:**"
      ],
      "metadata": {
        "id": "jCyFTgDVbVqp"
      }
    },
    {
      "cell_type": "code",
      "source": [
        "#Importer nltk \n",
        "import nltk"
      ],
      "metadata": {
        "id": "ViLr1YKdZRXc"
      },
      "execution_count": 1,
      "outputs": []
    },
    {
      "cell_type": "code",
      "source": [
        "#Télécharger tous les packages de NLTK, il faut taper all \"d\" à la zone Downloader puis \"all\" puis \"q\"\n",
        "nltk.download()"
      ],
      "metadata": {
        "colab": {
          "base_uri": "https://localhost:8080/"
        },
        "id": "kTecni97boJ7",
        "outputId": "378a98e7-a0ab-4d44-cc15-f32db7029dd0"
      },
      "execution_count": 2,
      "outputs": [
        {
          "name": "stdout",
          "output_type": "stream",
          "text": [
            "NLTK Downloader\n",
            "---------------------------------------------------------------------------\n",
            "    d) Download   l) List    u) Update   c) Config   h) Help   q) Quit\n",
            "---------------------------------------------------------------------------\n",
            "Downloader> d\n",
            "\n",
            "Download which package (l=list; x=cancel)?\n",
            "  Identifier> all\n"
          ]
        },
        {
          "output_type": "stream",
          "name": "stderr",
          "text": [
            "    Downloading collection 'all'\n",
            "       | \n",
            "       | Downloading package abc to /root/nltk_data...\n",
            "       |   Unzipping corpora/abc.zip.\n",
            "       | Downloading package alpino to /root/nltk_data...\n",
            "       |   Unzipping corpora/alpino.zip.\n",
            "       | Downloading package averaged_perceptron_tagger to\n",
            "       |     /root/nltk_data...\n",
            "       |   Unzipping taggers/averaged_perceptron_tagger.zip.\n",
            "       | Downloading package averaged_perceptron_tagger_ru to\n",
            "       |     /root/nltk_data...\n",
            "       |   Unzipping taggers/averaged_perceptron_tagger_ru.zip.\n",
            "       | Downloading package basque_grammars to /root/nltk_data...\n",
            "       |   Unzipping grammars/basque_grammars.zip.\n",
            "       | Downloading package bcp47 to /root/nltk_data...\n",
            "       | Downloading package biocreative_ppi to /root/nltk_data...\n",
            "       |   Unzipping corpora/biocreative_ppi.zip.\n",
            "       | Downloading package bllip_wsj_no_aux to /root/nltk_data...\n",
            "       |   Unzipping models/bllip_wsj_no_aux.zip.\n",
            "       | Downloading package book_grammars to /root/nltk_data...\n",
            "       |   Unzipping grammars/book_grammars.zip.\n",
            "       | Downloading package brown to /root/nltk_data...\n",
            "       |   Unzipping corpora/brown.zip.\n",
            "       | Downloading package brown_tei to /root/nltk_data...\n",
            "       |   Unzipping corpora/brown_tei.zip.\n",
            "       | Downloading package cess_cat to /root/nltk_data...\n",
            "       |   Unzipping corpora/cess_cat.zip.\n",
            "       | Downloading package cess_esp to /root/nltk_data...\n",
            "       |   Unzipping corpora/cess_esp.zip.\n",
            "       | Downloading package chat80 to /root/nltk_data...\n",
            "       |   Unzipping corpora/chat80.zip.\n",
            "       | Downloading package city_database to /root/nltk_data...\n",
            "       |   Unzipping corpora/city_database.zip.\n",
            "       | Downloading package cmudict to /root/nltk_data...\n",
            "       |   Unzipping corpora/cmudict.zip.\n",
            "       | Downloading package comparative_sentences to\n",
            "       |     /root/nltk_data...\n",
            "       |   Unzipping corpora/comparative_sentences.zip.\n",
            "       | Downloading package comtrans to /root/nltk_data...\n",
            "       | Downloading package conll2000 to /root/nltk_data...\n",
            "       |   Unzipping corpora/conll2000.zip.\n",
            "       | Downloading package conll2002 to /root/nltk_data...\n",
            "       |   Unzipping corpora/conll2002.zip.\n",
            "       | Downloading package conll2007 to /root/nltk_data...\n",
            "       | Downloading package crubadan to /root/nltk_data...\n",
            "       |   Unzipping corpora/crubadan.zip.\n",
            "       | Downloading package dependency_treebank to /root/nltk_data...\n",
            "       |   Unzipping corpora/dependency_treebank.zip.\n",
            "       | Downloading package dolch to /root/nltk_data...\n",
            "       |   Unzipping corpora/dolch.zip.\n",
            "       | Downloading package europarl_raw to /root/nltk_data...\n",
            "       |   Unzipping corpora/europarl_raw.zip.\n",
            "       | Downloading package extended_omw to /root/nltk_data...\n",
            "       | Downloading package floresta to /root/nltk_data...\n",
            "       |   Unzipping corpora/floresta.zip.\n",
            "       | Downloading package framenet_v15 to /root/nltk_data...\n",
            "       |   Unzipping corpora/framenet_v15.zip.\n",
            "       | Downloading package framenet_v17 to /root/nltk_data...\n",
            "       |   Unzipping corpora/framenet_v17.zip.\n",
            "       | Downloading package gazetteers to /root/nltk_data...\n",
            "       |   Unzipping corpora/gazetteers.zip.\n",
            "       | Downloading package genesis to /root/nltk_data...\n",
            "       |   Unzipping corpora/genesis.zip.\n",
            "       | Downloading package gutenberg to /root/nltk_data...\n",
            "       |   Unzipping corpora/gutenberg.zip.\n",
            "       | Downloading package ieer to /root/nltk_data...\n",
            "       |   Unzipping corpora/ieer.zip.\n",
            "       | Downloading package inaugural to /root/nltk_data...\n",
            "       |   Unzipping corpora/inaugural.zip.\n",
            "       | Downloading package indian to /root/nltk_data...\n",
            "       |   Unzipping corpora/indian.zip.\n",
            "       | Downloading package jeita to /root/nltk_data...\n",
            "       | Downloading package kimmo to /root/nltk_data...\n",
            "       |   Unzipping corpora/kimmo.zip.\n",
            "       | Downloading package knbc to /root/nltk_data...\n",
            "       | Downloading package large_grammars to /root/nltk_data...\n",
            "       |   Unzipping grammars/large_grammars.zip.\n",
            "       | Downloading package lin_thesaurus to /root/nltk_data...\n",
            "       |   Unzipping corpora/lin_thesaurus.zip.\n",
            "       | Downloading package mac_morpho to /root/nltk_data...\n",
            "       |   Unzipping corpora/mac_morpho.zip.\n",
            "       | Downloading package machado to /root/nltk_data...\n",
            "       | Downloading package masc_tagged to /root/nltk_data...\n",
            "       | Downloading package maxent_ne_chunker to /root/nltk_data...\n",
            "       |   Unzipping chunkers/maxent_ne_chunker.zip.\n",
            "       | Downloading package maxent_treebank_pos_tagger to\n",
            "       |     /root/nltk_data...\n",
            "       |   Unzipping taggers/maxent_treebank_pos_tagger.zip.\n",
            "       | Downloading package moses_sample to /root/nltk_data...\n",
            "       |   Unzipping models/moses_sample.zip.\n",
            "       | Downloading package movie_reviews to /root/nltk_data...\n",
            "       |   Unzipping corpora/movie_reviews.zip.\n",
            "       | Downloading package mte_teip5 to /root/nltk_data...\n",
            "       |   Unzipping corpora/mte_teip5.zip.\n",
            "       | Downloading package mwa_ppdb to /root/nltk_data...\n",
            "       |   Unzipping misc/mwa_ppdb.zip.\n",
            "       | Downloading package names to /root/nltk_data...\n",
            "       |   Unzipping corpora/names.zip.\n",
            "       | Downloading package nombank.1.0 to /root/nltk_data...\n",
            "       | Downloading package nonbreaking_prefixes to\n",
            "       |     /root/nltk_data...\n",
            "       |   Unzipping corpora/nonbreaking_prefixes.zip.\n",
            "       | Downloading package nps_chat to /root/nltk_data...\n",
            "       |   Unzipping corpora/nps_chat.zip.\n",
            "       | Downloading package omw to /root/nltk_data...\n",
            "       | Downloading package omw-1.4 to /root/nltk_data...\n",
            "       | Downloading package opinion_lexicon to /root/nltk_data...\n",
            "       |   Unzipping corpora/opinion_lexicon.zip.\n",
            "       | Downloading package panlex_swadesh to /root/nltk_data...\n",
            "       | Downloading package paradigms to /root/nltk_data...\n",
            "       |   Unzipping corpora/paradigms.zip.\n",
            "       | Downloading package pe08 to /root/nltk_data...\n",
            "       |   Unzipping corpora/pe08.zip.\n",
            "       | Downloading package perluniprops to /root/nltk_data...\n",
            "       |   Unzipping misc/perluniprops.zip.\n",
            "       | Downloading package pil to /root/nltk_data...\n",
            "       |   Unzipping corpora/pil.zip.\n",
            "       | Downloading package pl196x to /root/nltk_data...\n",
            "       |   Unzipping corpora/pl196x.zip.\n",
            "       | Downloading package porter_test to /root/nltk_data...\n",
            "       |   Unzipping stemmers/porter_test.zip.\n",
            "       | Downloading package ppattach to /root/nltk_data...\n",
            "       |   Unzipping corpora/ppattach.zip.\n",
            "       | Downloading package problem_reports to /root/nltk_data...\n",
            "       |   Unzipping corpora/problem_reports.zip.\n",
            "       | Downloading package product_reviews_1 to /root/nltk_data...\n",
            "       |   Unzipping corpora/product_reviews_1.zip.\n",
            "       | Downloading package product_reviews_2 to /root/nltk_data...\n",
            "       |   Unzipping corpora/product_reviews_2.zip.\n",
            "       | Downloading package propbank to /root/nltk_data...\n",
            "       | Downloading package pros_cons to /root/nltk_data...\n",
            "       |   Unzipping corpora/pros_cons.zip.\n",
            "       | Downloading package ptb to /root/nltk_data...\n",
            "       |   Unzipping corpora/ptb.zip.\n",
            "       | Downloading package punkt to /root/nltk_data...\n",
            "       |   Unzipping tokenizers/punkt.zip.\n",
            "       | Downloading package qc to /root/nltk_data...\n",
            "       |   Unzipping corpora/qc.zip.\n",
            "       | Downloading package reuters to /root/nltk_data...\n",
            "       | Downloading package rslp to /root/nltk_data...\n",
            "       |   Unzipping stemmers/rslp.zip.\n",
            "       | Downloading package rte to /root/nltk_data...\n",
            "       |   Unzipping corpora/rte.zip.\n",
            "       | Downloading package sample_grammars to /root/nltk_data...\n",
            "       |   Unzipping grammars/sample_grammars.zip.\n",
            "       | Downloading package semcor to /root/nltk_data...\n",
            "       | Downloading package senseval to /root/nltk_data...\n",
            "       |   Unzipping corpora/senseval.zip.\n",
            "       | Downloading package sentence_polarity to /root/nltk_data...\n",
            "       |   Unzipping corpora/sentence_polarity.zip.\n",
            "       | Downloading package sentiwordnet to /root/nltk_data...\n",
            "       |   Unzipping corpora/sentiwordnet.zip.\n",
            "       | Downloading package shakespeare to /root/nltk_data...\n",
            "       |   Unzipping corpora/shakespeare.zip.\n",
            "       | Downloading package sinica_treebank to /root/nltk_data...\n",
            "       |   Unzipping corpora/sinica_treebank.zip.\n",
            "       | Downloading package smultron to /root/nltk_data...\n",
            "       |   Unzipping corpora/smultron.zip.\n",
            "       | Downloading package snowball_data to /root/nltk_data...\n",
            "       | Downloading package spanish_grammars to /root/nltk_data...\n",
            "       |   Unzipping grammars/spanish_grammars.zip.\n",
            "       | Downloading package state_union to /root/nltk_data...\n",
            "       |   Unzipping corpora/state_union.zip.\n",
            "       | Downloading package stopwords to /root/nltk_data...\n",
            "       |   Unzipping corpora/stopwords.zip.\n",
            "       | Downloading package subjectivity to /root/nltk_data...\n",
            "       |   Unzipping corpora/subjectivity.zip.\n",
            "       | Downloading package swadesh to /root/nltk_data...\n",
            "       |   Unzipping corpora/swadesh.zip.\n",
            "       | Downloading package switchboard to /root/nltk_data...\n",
            "       |   Unzipping corpora/switchboard.zip.\n",
            "       | Downloading package tagsets to /root/nltk_data...\n",
            "       |   Unzipping help/tagsets.zip.\n",
            "       | Downloading package timit to /root/nltk_data...\n",
            "       |   Unzipping corpora/timit.zip.\n",
            "       | Downloading package toolbox to /root/nltk_data...\n",
            "       |   Unzipping corpora/toolbox.zip.\n",
            "       | Downloading package treebank to /root/nltk_data...\n",
            "       |   Unzipping corpora/treebank.zip.\n",
            "       | Downloading package twitter_samples to /root/nltk_data...\n",
            "       |   Unzipping corpora/twitter_samples.zip.\n",
            "       | Downloading package udhr to /root/nltk_data...\n",
            "       |   Unzipping corpora/udhr.zip.\n",
            "       | Downloading package udhr2 to /root/nltk_data...\n",
            "       |   Unzipping corpora/udhr2.zip.\n",
            "       | Downloading package unicode_samples to /root/nltk_data...\n",
            "       |   Unzipping corpora/unicode_samples.zip.\n",
            "       | Downloading package universal_tagset to /root/nltk_data...\n",
            "       |   Unzipping taggers/universal_tagset.zip.\n",
            "       | Downloading package universal_treebanks_v20 to\n",
            "       |     /root/nltk_data...\n",
            "       | Downloading package vader_lexicon to /root/nltk_data...\n",
            "       | Downloading package verbnet to /root/nltk_data...\n",
            "       |   Unzipping corpora/verbnet.zip.\n",
            "       | Downloading package verbnet3 to /root/nltk_data...\n",
            "       |   Unzipping corpora/verbnet3.zip.\n",
            "       | Downloading package webtext to /root/nltk_data...\n",
            "       |   Unzipping corpora/webtext.zip.\n",
            "       | Downloading package wmt15_eval to /root/nltk_data...\n",
            "       |   Unzipping models/wmt15_eval.zip.\n",
            "       | Downloading package word2vec_sample to /root/nltk_data...\n",
            "       |   Unzipping models/word2vec_sample.zip.\n",
            "       | Downloading package wordnet to /root/nltk_data...\n",
            "       | Downloading package wordnet2021 to /root/nltk_data...\n",
            "       | Downloading package wordnet2022 to /root/nltk_data...\n",
            "       |   Unzipping corpora/wordnet2022.zip.\n",
            "       | Downloading package wordnet31 to /root/nltk_data...\n",
            "       | Downloading package wordnet_ic to /root/nltk_data...\n",
            "       |   Unzipping corpora/wordnet_ic.zip.\n",
            "       | Downloading package words to /root/nltk_data...\n",
            "       |   Unzipping corpora/words.zip.\n",
            "       | Downloading package ycoe to /root/nltk_data...\n",
            "       |   Unzipping corpora/ycoe.zip.\n",
            "       | \n",
            "     Done downloading collection all\n"
          ]
        },
        {
          "name": "stdout",
          "output_type": "stream",
          "text": [
            "\n",
            "---------------------------------------------------------------------------\n",
            "    d) Download   l) List    u) Update   c) Config   h) Help   q) Quit\n",
            "---------------------------------------------------------------------------\n",
            "Downloader> q\n"
          ]
        },
        {
          "output_type": "execute_result",
          "data": {
            "text/plain": [
              "True"
            ]
          },
          "metadata": {},
          "execution_count": 2
        }
      ]
    },
    {
      "cell_type": "markdown",
      "source": [
        "le traitement du langage naturel passe par des étapes qu'on appelle une pipeline de fonctions à réaliser, généralement, par ordre: \n",
        "\n",
        "\n",
        "1.   Lire le document (texte, chaine de caractère...)\n",
        "2.   Nettoyage du texte (suppression des caractères speciaux, des ponctuation, des urls, URI,...)\n",
        "1.   découpage en mots (Tokenization)\n",
        "2.   Racinisation/Réduction des mots à leurs racine (Stemming)\n",
        "1.   Suppression des mots vides ou stopwords\n",
        "2.   ...\n",
        "\n",
        "Il y a d'autres fonctions à utiliser selon le besoin. \n",
        "\n",
        "\n",
        "\n",
        "\n",
        "\n",
        "\n",
        "\n"
      ],
      "metadata": {
        "id": "ON7L_L_YcnG8"
      }
    },
    {
      "cell_type": "markdown",
      "source": [],
      "metadata": {
        "id": "gW6w68aegU0V"
      }
    },
    {
      "cell_type": "code",
      "source": [
        "#Splitting Tokens permet de découper le texte en mots"
      ],
      "metadata": {
        "id": "n_ijpNCLgVRg"
      },
      "execution_count": null,
      "outputs": []
    },
    {
      "cell_type": "code",
      "source": [
        "#Splitting Tokens avec split()\n",
        "\"This is a test for text-based search\".split()"
      ],
      "metadata": {
        "colab": {
          "base_uri": "https://localhost:8080/"
        },
        "id": "1qo8fcQMcisD",
        "outputId": "e846349f-51ee-4a93-ce78-41d3e806cd7e"
      },
      "execution_count": 3,
      "outputs": [
        {
          "output_type": "execute_result",
          "data": {
            "text/plain": [
              "['This', 'is', 'a', 'test', 'for', 'text-based', 'search']"
            ]
          },
          "metadata": {},
          "execution_count": 3
        }
      ]
    },
    {
      "cell_type": "code",
      "source": [
        "#Splitting Tokens avec word_tokenize\n",
        "#https://www.nltk.org/api/nltk.tokenize.word_tokenize.html?highlight=word_tokenize#nltk.tokenize.word_tokenize\n",
        "nltk.word_tokenize(\"This is a test for text-based search\")"
      ],
      "metadata": {
        "colab": {
          "base_uri": "https://localhost:8080/"
        },
        "id": "p-Ibx_wNci1c",
        "outputId": "fca612e2-8314-453e-8877-97d08f4fce5f"
      },
      "execution_count": 4,
      "outputs": [
        {
          "output_type": "execute_result",
          "data": {
            "text/plain": [
              "['This', 'is', 'a', 'test', 'for', 'text-based', 'search']"
            ]
          },
          "metadata": {},
          "execution_count": 4
        }
      ]
    },
    {
      "cell_type": "code",
      "source": [
        "#Splitting tokens avec regular expression\n",
        "#il faut importer le package re\n",
        "import re"
      ],
      "metadata": {
        "id": "_SquxrMKci32"
      },
      "execution_count": 5,
      "outputs": []
    },
    {
      "cell_type": "code",
      "source": [
        "re.split(r\"\\W\", \"This is a test for text-based search\")"
      ],
      "metadata": {
        "colab": {
          "base_uri": "https://localhost:8080/"
        },
        "id": "Pm9GoGcYci7Q",
        "outputId": "c420b882-23f9-41d0-bd6f-5783f379709e"
      },
      "execution_count": 6,
      "outputs": [
        {
          "output_type": "execute_result",
          "data": {
            "text/plain": [
              "['This', 'is', 'a', 'test', 'for', 'text', 'based', 'search']"
            ]
          },
          "metadata": {},
          "execution_count": 6
        }
      ]
    },
    {
      "cell_type": "code",
      "source": [
        "#Case Sensitivity\n",
        "\"Paris is the capital of France\".split()"
      ],
      "metadata": {
        "colab": {
          "base_uri": "https://localhost:8080/"
        },
        "id": "idoxbQYDgOUV",
        "outputId": "665f9d05-f015-4f84-acbc-cd722dd2a3f7"
      },
      "execution_count": 7,
      "outputs": [
        {
          "output_type": "execute_result",
          "data": {
            "text/plain": [
              "['Paris', 'is', 'the', 'capital', 'of', 'France']"
            ]
          },
          "metadata": {},
          "execution_count": 7
        }
      ]
    },
    {
      "cell_type": "code",
      "source": [
        "#Case Sensitivity\n",
        "#lower() perment de transformer le texte en miniscule\n",
        "\"Paris is the capital of France\".lower().split()"
      ],
      "metadata": {
        "colab": {
          "base_uri": "https://localhost:8080/"
        },
        "id": "ZxhE2BTQgOXr",
        "outputId": "b5309c6f-445a-4f90-a8f9-4ce697be8313"
      },
      "execution_count": 8,
      "outputs": [
        {
          "output_type": "execute_result",
          "data": {
            "text/plain": [
              "['paris', 'is', 'the', 'capital', 'of', 'france']"
            ]
          },
          "metadata": {},
          "execution_count": 8
        }
      ]
    },
    {
      "cell_type": "code",
      "source": [
        "#Stemming ou racinistaion \n",
        "#Il existe plusieurs algorithmes mais on va utiliser Porter que vous allez voir en cours\n",
        "from nltk.stem.porter import PorterStemmer\n",
        "stemmer = PorterStemmer()\n",
        "[stemmer.stem(token) for token in [\"developed\", \"develop\", \"developing\"]]"
      ],
      "metadata": {
        "colab": {
          "base_uri": "https://localhost:8080/"
        },
        "id": "vXjmBtZtgOb-",
        "outputId": "3bf82acf-5197-4caa-e34f-0b00096effbc"
      },
      "execution_count": 9,
      "outputs": [
        {
          "output_type": "execute_result",
          "data": {
            "text/plain": [
              "['develop', 'develop', 'develop']"
            ]
          },
          "metadata": {},
          "execution_count": 9
        }
      ]
    },
    {
      "cell_type": "code",
      "source": [
        "#Stop words ou mots vides qui ne sont pas requis pour l'analyse. \n",
        "#Le vocabulaire anglais a les mots vides genre de \"a, this, for, on, of, at, ...\"\n",
        "# le vocabulaire français contient les mots vides genre \"de, par, à, dont, dans...\"\n",
        "#On ne peut pas délimiter la liste des mots vides le cas de cet exemple: \n",
        "tokens = \"This is a test for text-based search\".lower().split()\n",
        "[t for t in tokens if t not in [\"a\", \"for\", \"is\", \"this\"]]"
      ],
      "metadata": {
        "colab": {
          "base_uri": "https://localhost:8080/"
        },
        "id": "YaDIE_fqgOfb",
        "outputId": "2fc7615a-ea6e-45ba-9f37-310547d02d7a"
      },
      "execution_count": 10,
      "outputs": [
        {
          "output_type": "execute_result",
          "data": {
            "text/plain": [
              "['test', 'text-based', 'search']"
            ]
          },
          "metadata": {},
          "execution_count": 10
        }
      ]
    },
    {
      "cell_type": "code",
      "source": [
        "#alors on peut utiliser la liste prédéfinis des mots vides du vocabulaire anglais\n",
        "nltk.download('stopwords')\n",
        "from nltk.corpus import stopwords"
      ],
      "metadata": {
        "colab": {
          "base_uri": "https://localhost:8080/"
        },
        "id": "0rxfRq3QgOjb",
        "outputId": "f808d4be-8532-4fa8-b36e-b60e64acc9d1"
      },
      "execution_count": 11,
      "outputs": [
        {
          "output_type": "stream",
          "name": "stderr",
          "text": [
            "[nltk_data] Downloading package stopwords to /root/nltk_data...\n",
            "[nltk_data]   Package stopwords is already up-to-date!\n"
          ]
        }
      ]
    },
    {
      "cell_type": "code",
      "source": [
        "t = list(filter(lambda token: token not in stopwords.words('english'), tokens))\n",
        "print(t)"
      ],
      "metadata": {
        "colab": {
          "base_uri": "https://localhost:8080/"
        },
        "id": "xSsYXFMaj15H",
        "outputId": "d51331ed-2ccb-4c23-efae-3cfc6d3b5f45"
      },
      "execution_count": 12,
      "outputs": [
        {
          "output_type": "stream",
          "name": "stdout",
          "text": [
            "['test', 'text-based', 'search']\n"
          ]
        }
      ]
    },
    {
      "cell_type": "code",
      "source": [
        "#Filtering: il s'agit de filtrer la liste des mots, en eliminant ceux non utiles ou erronées comme les fautes de frappes et les abbréviations\n",
        "#on peut utiliser les regex \n",
        "import re\n",
        "tokens = \"1234 test1234 rejected\".lower().split()\n",
        "[t for t in tokens if re.match(r\"^[a-z]+$\", t)]"
      ],
      "metadata": {
        "colab": {
          "base_uri": "https://localhost:8080/"
        },
        "id": "cIIVDzvHkCqv",
        "outputId": "1f884fa7-a5a3-455c-a8bb-98262375752f"
      },
      "execution_count": 13,
      "outputs": [
        {
          "output_type": "execute_result",
          "data": {
            "text/plain": [
              "['rejected']"
            ]
          },
          "metadata": {},
          "execution_count": 13
        }
      ]
    },
    {
      "cell_type": "markdown",
      "source": [
        "**Exercice 2:**\n",
        "vous allez utiliser le fichier doc1.txt déposer sur classroom avec le TP\n"
      ],
      "metadata": {
        "id": "oDhaQaa_kYNY"
      }
    },
    {
      "cell_type": "code",
      "source": [
        "# Ouverture du fichier en lecture\n",
        "f = open(\"doc1.txt\", \"r\")\n",
        "#ou f=open(\"doc1.txt\", 'rt')"
      ],
      "metadata": {
        "id": "8KMJVHj0kCut"
      },
      "execution_count": null,
      "outputs": []
    },
    {
      "cell_type": "code",
      "source": [
        "#lire le contenu du fichier doc1.txt dans une chaine de caractère \"text\"\n",
        "text=f.read()"
      ],
      "metadata": {
        "id": "UvbJRZGq8utJ"
      },
      "execution_count": null,
      "outputs": []
    },
    {
      "cell_type": "code",
      "source": [
        "#extraction des mots (tokenization)\n",
        "tokens = nltk.word_tokenize(text)"
      ],
      "metadata": {
        "id": "Qfv157Wu9SzN"
      },
      "execution_count": null,
      "outputs": []
    },
    {
      "cell_type": "code",
      "source": [
        "#afficher le nombre de mots\n",
        "print(len(tokens))"
      ],
      "metadata": {
        "colab": {
          "base_uri": "https://localhost:8080/"
        },
        "id": "7pmqJT2w9i06",
        "outputId": "ab735655-a5f9-45ef-fe49-fd2ab4e64acb"
      },
      "execution_count": null,
      "outputs": [
        {
          "output_type": "stream",
          "name": "stdout",
          "text": [
            "289\n"
          ]
        }
      ]
    },
    {
      "cell_type": "code",
      "source": [
        "#afficher les 30 premiers mots\n",
        "print(tokens[:30])"
      ],
      "metadata": {
        "colab": {
          "base_uri": "https://localhost:8080/"
        },
        "id": "4xGrfRyp-D10",
        "outputId": "dda82620-7f70-474f-9e96-a087434f7f12"
      },
      "execution_count": null,
      "outputs": [
        {
          "output_type": "stream",
          "name": "stdout",
          "text": [
            "['Kabyles', 'de', 'la', 'Chapelle', 'et', 'des', 'quais', 'de', 'Javel', 'hommes', 'des', '100', 'pays', 'lointains', 'cobayes', 'des', 'colonies', 'le', '27-07-2009', 'Doux', 'petits', '5', 'musiciens', 'soleils', 'adolescents', 'de', 'la', 'porte', 'd', '’']\n"
          ]
        }
      ]
    },
    {
      "cell_type": "code",
      "source": [
        "#suppression des stop words \n",
        "nltk.download('stopwords')\n",
        "from nltk.corpus import stopwords"
      ],
      "metadata": {
        "colab": {
          "base_uri": "https://localhost:8080/"
        },
        "id": "3hhKv_2Q-HN9",
        "outputId": "f48257a8-5129-4a69-c44a-93840e6167d8"
      },
      "execution_count": 14,
      "outputs": [
        {
          "output_type": "stream",
          "name": "stderr",
          "text": [
            "[nltk_data] Downloading package stopwords to /root/nltk_data...\n",
            "[nltk_data]   Package stopwords is already up-to-date!\n"
          ]
        }
      ]
    },
    {
      "cell_type": "code",
      "source": [
        "nt=list(filter(lambda token: token not in stopwords.words('french'), tokens))"
      ],
      "metadata": {
        "id": "Inhobszq_e1g"
      },
      "execution_count": null,
      "outputs": []
    },
    {
      "cell_type": "code",
      "source": [
        "print(nt[:20])"
      ],
      "metadata": {
        "colab": {
          "base_uri": "https://localhost:8080/"
        },
        "id": "KdL-EI8p_2Xz",
        "outputId": "3f7ae287-ec53-4953-c2f5-33bf726376bf"
      },
      "execution_count": null,
      "outputs": [
        {
          "output_type": "stream",
          "name": "stdout",
          "text": [
            "['Kabyles', 'Chapelle', 'quais', 'Javel', 'hommes', '100', 'pays', 'lointains', 'cobayes', 'colonies', '27-07-2009', 'Doux', 'petits', '5', 'musiciens', 'soleils', 'adolescents', 'porte', '’', 'Italie']\n"
          ]
        }
      ]
    },
    {
      "cell_type": "code",
      "source": [
        "print(len(nt))"
      ],
      "metadata": {
        "colab": {
          "base_uri": "https://localhost:8080/"
        },
        "id": "TxGLyfYT_8Cz",
        "outputId": "64452ffd-3b10-4510-d6ce-e2541c974272"
      },
      "execution_count": null,
      "outputs": [
        {
          "output_type": "stream",
          "name": "stdout",
          "text": [
            "171\n"
          ]
        }
      ]
    },
    {
      "cell_type": "code",
      "source": [
        "#réecriture des mots en minuscule\n",
        "nt2=[word.lower() for word in nt]"
      ],
      "metadata": {
        "id": "JZzJ2MXQASOd"
      },
      "execution_count": null,
      "outputs": []
    },
    {
      "cell_type": "code",
      "source": [
        "print(nt2[:20])"
      ],
      "metadata": {
        "colab": {
          "base_uri": "https://localhost:8080/"
        },
        "id": "OEceBIPQbPpT",
        "outputId": "628210c6-c125-440e-e2f7-bc7618dba50e"
      },
      "execution_count": null,
      "outputs": [
        {
          "output_type": "stream",
          "name": "stdout",
          "text": [
            "['kabyles', 'chapelle', 'quais', 'javel', 'hommes', '100', 'pays', 'lointains', 'cobayes', 'colonies', '27-07-2009', 'doux', 'petits', '5', 'musiciens', 'soleils', 'adolescents', 'porte', '’', 'italie']\n"
          ]
        }
      ]
    },
    {
      "cell_type": "code",
      "source": [
        "#Supprimer les valeurs numériques et dates\n",
        "import re\n",
        "tk=[tk for tk in nt2 if re.match('\\d+', tk)]\n",
        "print(tk[:20])"
      ],
      "metadata": {
        "id": "j_A6h4tHmDEY",
        "colab": {
          "base_uri": "https://localhost:8080/",
          "height": 225
        },
        "outputId": "04d79539-c4bf-43c5-aa50-ec41fe8459e5"
      },
      "execution_count": 16,
      "outputs": [
        {
          "output_type": "error",
          "ename": "NameError",
          "evalue": "ignored",
          "traceback": [
            "\u001b[0;31m---------------------------------------------------------------------------\u001b[0m",
            "\u001b[0;31mNameError\u001b[0m                                 Traceback (most recent call last)",
            "\u001b[0;32m<ipython-input-16-851992ea8939>\u001b[0m in \u001b[0;36m<cell line: 3>\u001b[0;34m()\u001b[0m\n\u001b[1;32m      1\u001b[0m \u001b[0;31m#Supprimer les valeurs numériques et dates\u001b[0m\u001b[0;34m\u001b[0m\u001b[0;34m\u001b[0m\u001b[0m\n\u001b[1;32m      2\u001b[0m \u001b[0;32mimport\u001b[0m \u001b[0mre\u001b[0m\u001b[0;34m\u001b[0m\u001b[0;34m\u001b[0m\u001b[0m\n\u001b[0;32m----> 3\u001b[0;31m \u001b[0mtk\u001b[0m\u001b[0;34m=\u001b[0m\u001b[0;34m[\u001b[0m\u001b[0mtk\u001b[0m \u001b[0;32mfor\u001b[0m \u001b[0mtk\u001b[0m \u001b[0;32min\u001b[0m \u001b[0mnt2\u001b[0m \u001b[0;32mif\u001b[0m \u001b[0mre\u001b[0m\u001b[0;34m.\u001b[0m\u001b[0mmatch\u001b[0m\u001b[0;34m(\u001b[0m\u001b[0;34m'\\d+'\u001b[0m\u001b[0;34m,\u001b[0m \u001b[0mtk\u001b[0m\u001b[0;34m)\u001b[0m\u001b[0;34m]\u001b[0m\u001b[0;34m\u001b[0m\u001b[0;34m\u001b[0m\u001b[0m\n\u001b[0m\u001b[1;32m      4\u001b[0m \u001b[0mprint\u001b[0m\u001b[0;34m(\u001b[0m\u001b[0mtk\u001b[0m\u001b[0;34m[\u001b[0m\u001b[0;34m:\u001b[0m\u001b[0;36m20\u001b[0m\u001b[0;34m]\u001b[0m\u001b[0;34m)\u001b[0m\u001b[0;34m\u001b[0m\u001b[0;34m\u001b[0m\u001b[0m\n",
            "\u001b[0;31mNameError\u001b[0m: name 'nt2' is not defined"
          ]
        }
      ]
    },
    {
      "cell_type": "code",
      "source": [
        "ft= [ft for ft in nt2 if ft not in tk]\n",
        "print(ft[:20])"
      ],
      "metadata": {
        "colab": {
          "base_uri": "https://localhost:8080/"
        },
        "id": "cg5pwbnCd6e_",
        "outputId": "bb5d4a76-b4f6-438e-c238-92bc1a708d07"
      },
      "execution_count": null,
      "outputs": [
        {
          "output_type": "stream",
          "name": "stdout",
          "text": [
            "['kabyles', 'chapelle', 'quais', 'javel', 'hommes', 'pays', 'lointains', 'cobayes', 'colonies', 'doux', 'petits', 'musiciens', 'soleils', 'adolescents', 'porte', '’', 'italie', 'boumians', 'porte', 'saint-ouen']\n"
          ]
        }
      ]
    },
    {
      "cell_type": "code",
      "source": [
        "#ou\n",
        "tt = [t for t in tk if re.match(\"[0-9][0-9][0-9][0-9]-[0-9][0-9]-[0-9][0-9]\", t)]"
      ],
      "metadata": {
        "id": "MTNRsAWTc6tD"
      },
      "execution_count": null,
      "outputs": []
    },
    {
      "cell_type": "code",
      "source": [
        "#ou vous définissez une structure qui décrit les formats de dates possibles, puis la charcher et supprimer du document\n",
        "InternalDate = re.compile(r\"[0-9][0-9][0-9][0-9]-[0-9][0-9]-[0-9][0-9]\")\n",
        "tt = [t for t in tk if InternalDate.match(t)]\n",
        "print(tt[:20])"
      ],
      "metadata": {
        "id": "CICHMND0cTj7"
      },
      "execution_count": null,
      "outputs": []
    },
    {
      "cell_type": "code",
      "source": [
        "print(len(ft))"
      ],
      "metadata": {
        "colab": {
          "base_uri": "https://localhost:8080/"
        },
        "id": "SsVoIStkb4AU",
        "outputId": "a41c3fb7-0853-464d-c0fd-0d2870dc4a50"
      },
      "execution_count": null,
      "outputs": [
        {
          "output_type": "stream",
          "name": "stdout",
          "text": [
            "168\n"
          ]
        }
      ]
    },
    {
      "cell_type": "code",
      "source": [
        "#Racinisation (Stemming)\n",
        "from nltk.stem.porter import PorterStemmer\n",
        "stemmer = PorterStemmer()\n",
        "ftokens=[stemmer.stem(token) for token in ft]\n",
        "print(ftokens[:20])\n",
        "print(len(ftokens))"
      ],
      "metadata": {
        "id": "Fd6pBmqqmHSa",
        "colab": {
          "base_uri": "https://localhost:8080/",
          "height": 243
        },
        "outputId": "e7f0db31-51b2-4b85-f06a-9b765001097e"
      },
      "execution_count": 17,
      "outputs": [
        {
          "output_type": "error",
          "ename": "NameError",
          "evalue": "ignored",
          "traceback": [
            "\u001b[0;31m---------------------------------------------------------------------------\u001b[0m",
            "\u001b[0;31mNameError\u001b[0m                                 Traceback (most recent call last)",
            "\u001b[0;32m<ipython-input-17-54ec98ecf2fe>\u001b[0m in \u001b[0;36m<cell line: 4>\u001b[0;34m()\u001b[0m\n\u001b[1;32m      2\u001b[0m \u001b[0;32mfrom\u001b[0m \u001b[0mnltk\u001b[0m\u001b[0;34m.\u001b[0m\u001b[0mstem\u001b[0m\u001b[0;34m.\u001b[0m\u001b[0mporter\u001b[0m \u001b[0;32mimport\u001b[0m \u001b[0mPorterStemmer\u001b[0m\u001b[0;34m\u001b[0m\u001b[0;34m\u001b[0m\u001b[0m\n\u001b[1;32m      3\u001b[0m \u001b[0mstemmer\u001b[0m \u001b[0;34m=\u001b[0m \u001b[0mPorterStemmer\u001b[0m\u001b[0;34m(\u001b[0m\u001b[0;34m)\u001b[0m\u001b[0;34m\u001b[0m\u001b[0;34m\u001b[0m\u001b[0m\n\u001b[0;32m----> 4\u001b[0;31m \u001b[0mftokens\u001b[0m\u001b[0;34m=\u001b[0m\u001b[0;34m[\u001b[0m\u001b[0mstemmer\u001b[0m\u001b[0;34m.\u001b[0m\u001b[0mstem\u001b[0m\u001b[0;34m(\u001b[0m\u001b[0mtoken\u001b[0m\u001b[0;34m)\u001b[0m \u001b[0;32mfor\u001b[0m \u001b[0mtoken\u001b[0m \u001b[0;32min\u001b[0m \u001b[0mft\u001b[0m\u001b[0;34m]\u001b[0m\u001b[0;34m\u001b[0m\u001b[0;34m\u001b[0m\u001b[0m\n\u001b[0m\u001b[1;32m      5\u001b[0m \u001b[0mprint\u001b[0m\u001b[0;34m(\u001b[0m\u001b[0mftokens\u001b[0m\u001b[0;34m[\u001b[0m\u001b[0;34m:\u001b[0m\u001b[0;36m20\u001b[0m\u001b[0;34m]\u001b[0m\u001b[0;34m)\u001b[0m\u001b[0;34m\u001b[0m\u001b[0;34m\u001b[0m\u001b[0m\n\u001b[1;32m      6\u001b[0m \u001b[0mprint\u001b[0m\u001b[0;34m(\u001b[0m\u001b[0mlen\u001b[0m\u001b[0;34m(\u001b[0m\u001b[0mftokens\u001b[0m\u001b[0;34m)\u001b[0m\u001b[0;34m)\u001b[0m\u001b[0;34m\u001b[0m\u001b[0;34m\u001b[0m\u001b[0m\n",
            "\u001b[0;31mNameError\u001b[0m: name 'ft' is not defined"
          ]
        }
      ]
    },
    {
      "cell_type": "code",
      "source": [
        "# Enregistrement du résultat dans un fichier de sortie"
      ],
      "metadata": {
        "id": "SqTLHnZJmKyE"
      },
      "execution_count": null,
      "outputs": []
    },
    {
      "cell_type": "code",
      "source": [
        "fout = open(\"doc2.txt\", \"w\")\n",
        "for v in ftokens:\n",
        "  fout.write(v + \"\\n\")"
      ],
      "metadata": {
        "id": "eMgVo9rfclxf"
      },
      "execution_count": null,
      "outputs": []
    },
    {
      "cell_type": "code",
      "source": [],
      "metadata": {
        "id": "9ADQvSi0oXCx"
      },
      "execution_count": null,
      "outputs": []
    },
    {
      "cell_type": "code",
      "source": [
        "#ou\n",
        "with open(\"fsortie.txt\", \"w\") as filout:\n",
        " for v in ftokens:\n",
        "  filout.write(v + \"\\n\")"
      ],
      "metadata": {
        "id": "WCm9pat8cw7X"
      },
      "execution_count": null,
      "outputs": []
    },
    {
      "cell_type": "code",
      "source": [
        "\n",
        "import os, sys\n",
        "\n",
        "# Open a file\n",
        "path = \"sample_data/corpus/\"\n",
        "dirs = os.listdir( path )\n",
        "\n",
        "# This would print all the files and directories\n",
        "for file in dirs:\n",
        "   print(file)"
      ],
      "metadata": {
        "colab": {
          "base_uri": "https://localhost:8080/"
        },
        "id": "cqkXGjA6rRDF",
        "outputId": "73c3af95-8084-4240-e1c3-cad0283e1f6e"
      },
      "execution_count": null,
      "outputs": [
        {
          "output_type": "stream",
          "name": "stdout",
          "text": [
            "doc8.txt\n",
            "doc4.txt\n",
            "doc5.txt\n",
            "doc2.txt\n",
            "doc1.txt\n",
            "doc3.txt\n",
            ".ipynb_checkpoints\n",
            "doc7.txt\n",
            "doc6.txt\n",
            "doc10.txt\n",
            "doc9.txt\n"
          ]
        }
      ]
    },
    {
      "cell_type": "code",
      "source": [],
      "metadata": {
        "id": "0dKh_0yTuFkd"
      },
      "execution_count": null,
      "outputs": []
    },
    {
      "cell_type": "code",
      "source": [
        "import nltk\n",
        "nltk.download()"
      ],
      "metadata": {
        "colab": {
          "base_uri": "https://localhost:8080/"
        },
        "id": "AEFTXEVjNxyx",
        "outputId": "73ebffe5-0a0a-456a-e5e4-c00272be100b"
      },
      "execution_count": null,
      "outputs": [
        {
          "name": "stdout",
          "output_type": "stream",
          "text": [
            "NLTK Downloader\n",
            "---------------------------------------------------------------------------\n",
            "    d) Download   l) List    u) Update   c) Config   h) Help   q) Quit\n",
            "---------------------------------------------------------------------------\n",
            "Downloader> d\n",
            "\n",
            "Download which package (l=list; x=cancel)?\n",
            "  Identifier> all\n"
          ]
        },
        {
          "output_type": "stream",
          "name": "stderr",
          "text": [
            "    Downloading collection 'all'\n",
            "       | \n",
            "       | Downloading package abc to /root/nltk_data...\n",
            "       |   Unzipping corpora/abc.zip.\n",
            "       | Downloading package alpino to /root/nltk_data...\n",
            "       |   Unzipping corpora/alpino.zip.\n",
            "       | Downloading package averaged_perceptron_tagger to\n",
            "       |     /root/nltk_data...\n",
            "       |   Unzipping taggers/averaged_perceptron_tagger.zip.\n",
            "       | Downloading package averaged_perceptron_tagger_ru to\n",
            "       |     /root/nltk_data...\n",
            "       |   Unzipping taggers/averaged_perceptron_tagger_ru.zip.\n",
            "       | Downloading package basque_grammars to /root/nltk_data...\n",
            "       |   Unzipping grammars/basque_grammars.zip.\n",
            "       | Downloading package bcp47 to /root/nltk_data...\n",
            "       | Downloading package biocreative_ppi to /root/nltk_data...\n",
            "       |   Unzipping corpora/biocreative_ppi.zip.\n",
            "       | Downloading package bllip_wsj_no_aux to /root/nltk_data...\n",
            "       |   Unzipping models/bllip_wsj_no_aux.zip.\n",
            "       | Downloading package book_grammars to /root/nltk_data...\n",
            "       |   Unzipping grammars/book_grammars.zip.\n",
            "       | Downloading package brown to /root/nltk_data...\n",
            "       |   Unzipping corpora/brown.zip.\n",
            "       | Downloading package brown_tei to /root/nltk_data...\n",
            "       |   Unzipping corpora/brown_tei.zip.\n",
            "       | Downloading package cess_cat to /root/nltk_data...\n",
            "       |   Unzipping corpora/cess_cat.zip.\n",
            "       | Downloading package cess_esp to /root/nltk_data...\n",
            "       |   Unzipping corpora/cess_esp.zip.\n",
            "       | Downloading package chat80 to /root/nltk_data...\n",
            "       |   Unzipping corpora/chat80.zip.\n",
            "       | Downloading package city_database to /root/nltk_data...\n",
            "       |   Unzipping corpora/city_database.zip.\n",
            "       | Downloading package cmudict to /root/nltk_data...\n",
            "       |   Unzipping corpora/cmudict.zip.\n",
            "       | Downloading package comparative_sentences to\n",
            "       |     /root/nltk_data...\n",
            "       |   Unzipping corpora/comparative_sentences.zip.\n",
            "       | Downloading package comtrans to /root/nltk_data...\n",
            "       | Downloading package conll2000 to /root/nltk_data...\n",
            "       |   Unzipping corpora/conll2000.zip.\n",
            "       | Downloading package conll2002 to /root/nltk_data...\n",
            "       |   Unzipping corpora/conll2002.zip.\n",
            "       | Downloading package conll2007 to /root/nltk_data...\n",
            "       | Downloading package crubadan to /root/nltk_data...\n",
            "       |   Unzipping corpora/crubadan.zip.\n",
            "       | Downloading package dependency_treebank to /root/nltk_data...\n",
            "       |   Unzipping corpora/dependency_treebank.zip.\n",
            "       | Downloading package dolch to /root/nltk_data...\n",
            "       |   Unzipping corpora/dolch.zip.\n",
            "       | Downloading package europarl_raw to /root/nltk_data...\n",
            "       |   Unzipping corpora/europarl_raw.zip.\n",
            "       | Downloading package extended_omw to /root/nltk_data...\n",
            "       | Downloading package floresta to /root/nltk_data...\n",
            "       |   Unzipping corpora/floresta.zip.\n",
            "       | Downloading package framenet_v15 to /root/nltk_data...\n",
            "       |   Unzipping corpora/framenet_v15.zip.\n",
            "       | Downloading package framenet_v17 to /root/nltk_data...\n",
            "       |   Unzipping corpora/framenet_v17.zip.\n",
            "       | Downloading package gazetteers to /root/nltk_data...\n",
            "       |   Unzipping corpora/gazetteers.zip.\n",
            "       | Downloading package genesis to /root/nltk_data...\n",
            "       |   Unzipping corpora/genesis.zip.\n",
            "       | Downloading package gutenberg to /root/nltk_data...\n",
            "       |   Unzipping corpora/gutenberg.zip.\n",
            "       | Downloading package ieer to /root/nltk_data...\n",
            "       |   Unzipping corpora/ieer.zip.\n",
            "       | Downloading package inaugural to /root/nltk_data...\n",
            "       |   Unzipping corpora/inaugural.zip.\n",
            "       | Downloading package indian to /root/nltk_data...\n",
            "       |   Unzipping corpora/indian.zip.\n",
            "       | Downloading package jeita to /root/nltk_data...\n",
            "       | Downloading package kimmo to /root/nltk_data...\n",
            "       |   Unzipping corpora/kimmo.zip.\n",
            "       | Downloading package knbc to /root/nltk_data...\n",
            "       | Downloading package large_grammars to /root/nltk_data...\n",
            "       |   Unzipping grammars/large_grammars.zip.\n",
            "       | Downloading package lin_thesaurus to /root/nltk_data...\n",
            "       |   Unzipping corpora/lin_thesaurus.zip.\n",
            "       | Downloading package mac_morpho to /root/nltk_data...\n",
            "       |   Unzipping corpora/mac_morpho.zip.\n",
            "       | Downloading package machado to /root/nltk_data...\n",
            "       | Downloading package masc_tagged to /root/nltk_data...\n",
            "       | Downloading package maxent_ne_chunker to /root/nltk_data...\n",
            "       |   Unzipping chunkers/maxent_ne_chunker.zip.\n",
            "       | Downloading package maxent_treebank_pos_tagger to\n",
            "       |     /root/nltk_data...\n",
            "       |   Unzipping taggers/maxent_treebank_pos_tagger.zip.\n",
            "       | Downloading package moses_sample to /root/nltk_data...\n",
            "       |   Unzipping models/moses_sample.zip.\n",
            "       | Downloading package movie_reviews to /root/nltk_data...\n",
            "       |   Unzipping corpora/movie_reviews.zip.\n",
            "       | Downloading package mte_teip5 to /root/nltk_data...\n",
            "       |   Unzipping corpora/mte_teip5.zip.\n",
            "       | Downloading package mwa_ppdb to /root/nltk_data...\n",
            "       |   Unzipping misc/mwa_ppdb.zip.\n",
            "       | Downloading package names to /root/nltk_data...\n",
            "       |   Unzipping corpora/names.zip.\n",
            "       | Downloading package nombank.1.0 to /root/nltk_data...\n",
            "       | Downloading package nonbreaking_prefixes to\n",
            "       |     /root/nltk_data...\n",
            "       |   Unzipping corpora/nonbreaking_prefixes.zip.\n",
            "       | Downloading package nps_chat to /root/nltk_data...\n",
            "       |   Unzipping corpora/nps_chat.zip.\n",
            "       | Downloading package omw to /root/nltk_data...\n",
            "       | Downloading package omw-1.4 to /root/nltk_data...\n",
            "       | Downloading package opinion_lexicon to /root/nltk_data...\n",
            "       |   Unzipping corpora/opinion_lexicon.zip.\n",
            "       | Downloading package panlex_swadesh to /root/nltk_data...\n",
            "       | Downloading package paradigms to /root/nltk_data...\n",
            "       |   Unzipping corpora/paradigms.zip.\n",
            "       | Downloading package pe08 to /root/nltk_data...\n",
            "       |   Unzipping corpora/pe08.zip.\n",
            "       | Downloading package perluniprops to /root/nltk_data...\n",
            "       |   Unzipping misc/perluniprops.zip.\n",
            "       | Downloading package pil to /root/nltk_data...\n",
            "       |   Unzipping corpora/pil.zip.\n",
            "       | Downloading package pl196x to /root/nltk_data...\n",
            "       |   Unzipping corpora/pl196x.zip.\n",
            "       | Downloading package porter_test to /root/nltk_data...\n",
            "       |   Unzipping stemmers/porter_test.zip.\n",
            "       | Downloading package ppattach to /root/nltk_data...\n",
            "       |   Unzipping corpora/ppattach.zip.\n",
            "       | Downloading package problem_reports to /root/nltk_data...\n",
            "       |   Unzipping corpora/problem_reports.zip.\n",
            "       | Downloading package product_reviews_1 to /root/nltk_data...\n",
            "       |   Unzipping corpora/product_reviews_1.zip.\n",
            "       | Downloading package product_reviews_2 to /root/nltk_data...\n",
            "       |   Unzipping corpora/product_reviews_2.zip.\n",
            "       | Downloading package propbank to /root/nltk_data...\n",
            "       | Downloading package pros_cons to /root/nltk_data...\n",
            "       |   Unzipping corpora/pros_cons.zip.\n",
            "       | Downloading package ptb to /root/nltk_data...\n",
            "       |   Unzipping corpora/ptb.zip.\n",
            "       | Downloading package punkt to /root/nltk_data...\n",
            "       |   Unzipping tokenizers/punkt.zip.\n",
            "       | Downloading package qc to /root/nltk_data...\n",
            "       |   Unzipping corpora/qc.zip.\n",
            "       | Downloading package reuters to /root/nltk_data...\n",
            "       | Downloading package rslp to /root/nltk_data...\n",
            "       |   Unzipping stemmers/rslp.zip.\n",
            "       | Downloading package rte to /root/nltk_data...\n",
            "       |   Unzipping corpora/rte.zip.\n",
            "       | Downloading package sample_grammars to /root/nltk_data...\n",
            "       |   Unzipping grammars/sample_grammars.zip.\n",
            "       | Downloading package semcor to /root/nltk_data...\n",
            "       | Downloading package senseval to /root/nltk_data...\n",
            "       |   Unzipping corpora/senseval.zip.\n",
            "       | Downloading package sentence_polarity to /root/nltk_data...\n",
            "       |   Unzipping corpora/sentence_polarity.zip.\n",
            "       | Downloading package sentiwordnet to /root/nltk_data...\n",
            "       |   Unzipping corpora/sentiwordnet.zip.\n",
            "       | Downloading package shakespeare to /root/nltk_data...\n",
            "       |   Unzipping corpora/shakespeare.zip.\n",
            "       | Downloading package sinica_treebank to /root/nltk_data...\n",
            "       |   Unzipping corpora/sinica_treebank.zip.\n",
            "       | Downloading package smultron to /root/nltk_data...\n",
            "       |   Unzipping corpora/smultron.zip.\n",
            "       | Downloading package snowball_data to /root/nltk_data...\n",
            "       | Downloading package spanish_grammars to /root/nltk_data...\n",
            "       |   Unzipping grammars/spanish_grammars.zip.\n",
            "       | Downloading package state_union to /root/nltk_data...\n",
            "       |   Unzipping corpora/state_union.zip.\n",
            "       | Downloading package stopwords to /root/nltk_data...\n",
            "       |   Unzipping corpora/stopwords.zip.\n",
            "       | Downloading package subjectivity to /root/nltk_data...\n",
            "       |   Unzipping corpora/subjectivity.zip.\n",
            "       | Downloading package swadesh to /root/nltk_data...\n",
            "       |   Unzipping corpora/swadesh.zip.\n",
            "       | Downloading package switchboard to /root/nltk_data...\n",
            "       |   Unzipping corpora/switchboard.zip.\n",
            "       | Downloading package tagsets to /root/nltk_data...\n",
            "       |   Unzipping help/tagsets.zip.\n",
            "       | Downloading package timit to /root/nltk_data...\n",
            "       |   Unzipping corpora/timit.zip.\n",
            "       | Downloading package toolbox to /root/nltk_data...\n",
            "       |   Unzipping corpora/toolbox.zip.\n",
            "       | Downloading package treebank to /root/nltk_data...\n",
            "       |   Unzipping corpora/treebank.zip.\n",
            "       | Downloading package twitter_samples to /root/nltk_data...\n",
            "       |   Unzipping corpora/twitter_samples.zip.\n",
            "       | Downloading package udhr to /root/nltk_data...\n",
            "       |   Unzipping corpora/udhr.zip.\n",
            "       | Downloading package udhr2 to /root/nltk_data...\n",
            "       |   Unzipping corpora/udhr2.zip.\n",
            "       | Downloading package unicode_samples to /root/nltk_data...\n",
            "       |   Unzipping corpora/unicode_samples.zip.\n",
            "       | Downloading package universal_tagset to /root/nltk_data...\n",
            "       |   Unzipping taggers/universal_tagset.zip.\n",
            "       | Downloading package universal_treebanks_v20 to\n",
            "       |     /root/nltk_data...\n",
            "       | Downloading package vader_lexicon to /root/nltk_data...\n",
            "       | Downloading package verbnet to /root/nltk_data...\n",
            "       |   Unzipping corpora/verbnet.zip.\n",
            "       | Downloading package verbnet3 to /root/nltk_data...\n",
            "       |   Unzipping corpora/verbnet3.zip.\n",
            "       | Downloading package webtext to /root/nltk_data...\n",
            "       |   Unzipping corpora/webtext.zip.\n",
            "       | Downloading package wmt15_eval to /root/nltk_data...\n",
            "       |   Unzipping models/wmt15_eval.zip.\n",
            "       | Downloading package word2vec_sample to /root/nltk_data...\n",
            "       |   Unzipping models/word2vec_sample.zip.\n",
            "       | Downloading package wordnet to /root/nltk_data...\n",
            "       | Downloading package wordnet2021 to /root/nltk_data...\n",
            "       | Downloading package wordnet2022 to /root/nltk_data...\n",
            "       |   Unzipping corpora/wordnet2022.zip.\n",
            "       | Downloading package wordnet31 to /root/nltk_data...\n",
            "       | Downloading package wordnet_ic to /root/nltk_data...\n",
            "       |   Unzipping corpora/wordnet_ic.zip.\n",
            "       | Downloading package words to /root/nltk_data...\n",
            "       |   Unzipping corpora/words.zip.\n",
            "       | Downloading package ycoe to /root/nltk_data...\n",
            "       |   Unzipping corpora/ycoe.zip.\n",
            "       | \n",
            "     Done downloading collection all\n"
          ]
        },
        {
          "name": "stdout",
          "output_type": "stream",
          "text": [
            "\n",
            "---------------------------------------------------------------------------\n",
            "    d) Download   l) List    u) Update   c) Config   h) Help   q) Quit\n",
            "---------------------------------------------------------------------------\n",
            "Downloader> q\n"
          ]
        },
        {
          "output_type": "execute_result",
          "data": {
            "text/plain": [
              "True"
            ]
          },
          "metadata": {},
          "execution_count": 2
        }
      ]
    },
    {
      "cell_type": "code",
      "source": [
        "nltk.download('stopwords')\n",
        "from nltk.corpus import stopwords\n",
        "def stem_function(file):\n",
        "  from nltk.stem.porter import PorterStemmer\n",
        "  path = \"/content/sample_data/corpus\"\n",
        "  f=open(os.path.join(path, file))  \n",
        "  text=f.read()\n",
        "  tokens = nltk.word_tokenize(text)\n",
        "  nt=list(filter(lambda token: token not in stopwords.words('french'), tokens))\n",
        "  stemmer = PorterStemmer()\n",
        "  ftokens=[stemmer.stem(token) for token in nt]\n",
        "  return ftokens\n"
      ],
      "metadata": {
        "colab": {
          "base_uri": "https://localhost:8080/"
        },
        "id": "e6dZTeMVasHZ",
        "outputId": "0ee11fe3-c40d-4352-8889-74697ec01b08"
      },
      "execution_count": 22,
      "outputs": [
        {
          "output_type": "stream",
          "name": "stderr",
          "text": [
            "[nltk_data] Downloading package stopwords to /root/nltk_data...\n",
            "[nltk_data]   Package stopwords is already up-to-date!\n"
          ]
        }
      ]
    },
    {
      "cell_type": "code",
      "source": [
        "def TermF_function(tokens):\n",
        "  tfdict={}\n",
        "  for t in tokens:\n",
        "    if t not in tfdict:\n",
        "        tfdict[t] = 1\n",
        "    elif t in tfdict:\n",
        "        tfdict[t] += 1\n",
        "  return tfdict\n",
        " "
      ],
      "metadata": {
        "id": "Y7FRHUKpqubA"
      },
      "execution_count": 23,
      "outputs": []
    },
    {
      "cell_type": "code",
      "source": [
        "import math\n",
        "\n",
        "import os, sys\n",
        "from sklearn.feature_extraction.text import TfidfVectorizer\n",
        "nltk.download('stopwords')\n",
        "from nltk.corpus import stopwords\n",
        "\n",
        "\n",
        "# Open a file\n",
        "path = \"sample_data/corpus/\"\n",
        "dirs = os.listdir( path )\n",
        "t=[]\n",
        "tfd={}\n",
        "c={}\n",
        "nb={}\n",
        "def number_par_doc(liste):\n",
        "  for i in liste:\n",
        "    if i in nb:\n",
        "      nb[i]=nb[i]+1\n",
        "    else:\n",
        "      nb[i]=1 ;\n",
        "w=[]\n",
        "\n",
        "\n",
        "for file in dirs:\n",
        "    t=stem_function(file)\n",
        "    tfd=TermF_function(t)\n",
        "    temp={}\n",
        "    ''' for i in tfd:\n",
        "        temp[i]=idf[i]*tfd[i]; '''\n",
        "   \n",
        "\n",
        "    w.append(temp)\n",
        "    number_par_doc(tfd)\n",
        "    for i in tfd:\n",
        "      if i in c:\n",
        "        c[i]=c[i]+tfd[i]\n",
        "      else:\n",
        "        c[i]=tfd[i]\n",
        "idf={}\n",
        "\n",
        "def calcul_poid():\n",
        "  for i in nb:\n",
        "    idf[i]=math.log(10/nb[i])\n",
        "calcul_poid() \n",
        "for file in dirs:\n",
        "    t=stem_function(file)\n",
        "    tfd=TermF_function(t)\n",
        "    temp={}\n",
        "    for i in tfd:\n",
        "        temp[i]=idf[i]*tfd[i];\n",
        "    w.append(temp)\n",
        "      \n",
        "print(idf)\n",
        "print(w)\n"
      ],
      "metadata": {
        "colab": {
          "base_uri": "https://localhost:8080/"
        },
        "id": "-SH9EIMwNWpu",
        "outputId": "f896c408-45a4-459b-c096-5b7f29f0a027"
      },
      "execution_count": 45,
      "outputs": [
        {
          "output_type": "stream",
          "name": "stderr",
          "text": [
            "[nltk_data] Downloading package stopwords to /root/nltk_data...\n",
            "[nltk_data]   Package stopwords is already up-to-date!\n"
          ]
        },
        {
          "output_type": "stream",
          "name": "stdout",
          "text": [
            "{'il': 0.9162907318741551, 'dit': 0.9162907318741551, 'non': 1.6094379124341003, 'tête': 1.6094379124341003, 'oui': 1.6094379124341003, 'coeur': 1.2039728043259361, '’': 0.0, 'aim': 1.6094379124341003, 'professeur': 1.6094379124341003, 'debout': 2.302585092994046, 'questionn': 2.302585092994046, 'tou': 0.6931471805599453, 'problèm': 2.302585092994046, 'posé': 2.302585092994046, 'soudain': 1.6094379124341003, 'fou': 2.302585092994046, 'rire': 2.302585092994046, 'prend': 2.302585092994046, 'effac': 2.302585092994046, 'tout': 0.5108256237659907, 'chiffr': 2.302585092994046, 'mot': 1.6094379124341003, 'date': 2.302585092994046, 'nom': 1.6094379124341003, 'phrase': 2.302585092994046, 'pièg': 2.302585092994046, 'malgré': 2.302585092994046, 'menac': 2.302585092994046, 'maîtr': 1.6094379124341003, 'sou': 2.302585092994046, 'huée': 2.302585092994046, 'enfant': 1.2039728043259361, 'prodig': 2.302585092994046, 'crai': 2.302585092994046, 'couleur': 2.302585092994046, 'tableau': 2.302585092994046, 'noir': 1.6094379124341003, 'malheur': 2.302585092994046, 'dessin': 2.302585092994046, 'visag': 1.2039728043259361, 'bonheur': 2.302585092994046, '.': 0.0, 'le': 1.6094379124341003, 'tendr': 2.302585092994046, 'dangereux': 2.302585092994046, 'amour': 2.302585092994046, 'apparu': 2.302585092994046, 'soir': 1.2039728043259361, 'aprè': 2.302585092994046, 'trop': 1.6094379124341003, 'long': 2.302585092994046, 'jour': 1.6094379124341003, 'c': 1.2039728043259361, 'peut-êtr': 1.6094379124341003, 'archer': 2.302585092994046, 'arc': 2.302585092994046, 'bien': 0.9162907318741551, 'musicien': 1.6094379124341003, 'harp': 2.302585092994046, 'je': 0.6931471805599453, 'sai': 1.2039728043259361, 'plu': 0.6931471805599453, 'rien': 0.6931471805599453, 'a': 0.3566749439387324, 'blessé': 2.302585092994046, 'flèche': 2.302585092994046, 'chanson': 1.6094379124341003, 'toujour': 2.302585092994046, 'brûlant': 2.302585092994046, 'blessur': 2.302585092994046, 'interdit': 2.302585092994046, 'fair': 1.6094379124341003, 'musiqu': 1.6094379124341003, 'vingt-quatr': 2.302585092994046, 'heur': 2.302585092994046, 'ça': 2.302585092994046, 'finira': 2.302585092994046, 'tort': 1.6094379124341003, 'hier': 2.302585092994046, 'hindou': 2.302585092994046, 'amnésiqu': 2.302585092994046, 'mi': 1.6094379124341003, 'souvenir': 1.6094379124341003, 'gross': 2.302585092994046, 'boul': 2.302585092994046, 'or': 1.6094379124341003, 'roulé': 2.302585092994046, 'fond': 1.6094379124341003, 'corridor': 2.302585092994046, 'pui': 1.6094379124341003, 'escali': 2.302585092994046, 'dégringolé': 2.302585092994046, 'renvers': 2.302585092994046, 'monsieur': 2.302585092994046, 'devant': 1.6094379124341003, 'loge': 2.302585092994046, 'concierg': 2.302585092994046, 'voulait': 1.6094379124341003, 'dire': 1.6094379124341003, 'rentrant': 2.302585092994046, 'et': 1.2039728043259361, 'jeté': 1.6094379124341003, 'place': 2.302585092994046, 'sien': 2.302585092994046, 'mainten': 2.302585092994046, 'voilà': 1.6094379124341003, 'tranquil': 1.6094379124341003, 'bon': 1.6094379124341003, 'petit': 1.2039728043259361, 'bout': 1.6094379124341003, 'temp': 2.302585092994046, 'pri': 2.302585092994046, 'souvien': 2.302585092994046, 'parti': 2.302585092994046, 'sanglot': 2.302585092994046, 'tomb': 2.302585092994046, 'grand-pèr': 2.302585092994046, 'paternel': 2.302585092994046, 'judicieux': 2.302585092994046, 'éleveur': 2.302585092994046, 'sauterel': 2.302585092994046, 'homm': 1.6094379124341003, 'valait': 2.302585092994046, 'grand': 1.2039728043259361, 'chose': 1.6094379124341003, 'peur': 1.6094379124341003, 'portait': 2.302585092994046, 'bretel': 2.302585092994046, 'mauv': 2.302585092994046, 'sa': 2.302585092994046, 'femm': 2.302585092994046, 'appelait': 2.302585092994046, 'vaurien': 2.302585092994046, 'saurien': 2.302585092994046, 'cela': 1.2039728043259361, 'croi': 2.302585092994046, 'autr': 1.2039728043259361, 'est-c': 1.6094379124341003, 'futilité': 2.302585092994046, 'tiroir': 2.302585092994046, 'miett': 2.302585092994046, 'gravat': 2.302585092994046, 'mémoir': 2.302585092994046, 'connai': 2.302585092994046, 'fin': 2.302585092994046, 'histoir': 2.302585092994046, 'comment': 2.302585092994046, 'est-el': 2.302585092994046, 'fait': 1.6094379124341003, 'quoi': 2.302585092994046, 'a-t-el': 2.302585092994046, 'air': 2.302585092994046, 'aura-t-el': 2.302585092994046, 'tard': 1.6094379124341003, 'vert': 2.302585092994046, 'vacanc': 2.302585092994046, 'devenu': 2.302585092994046, 'panier': 2.302585092994046, 'osier': 2.302585092994046, 'sanglant': 2.302585092994046, 'mond': 2.302585092994046, 'assassiné': 2.302585092994046, 'dedan': 2.302585092994046, 'étiquett': 2.302585092994046, 'haut': 2.302585092994046, 'ba': 2.302585092994046, 'fragil': 2.302585092994046, 'lettr': 2.302585092994046, 'roug': 2.302585092994046, 'bleue': 2.302585092994046, 'pourquoi': 1.6094379124341003, 'enfin': 2.302585092994046, 'grise': 2.302585092994046, 'rose': 2.302585092994046, 'puisqu': 2.302585092994046, 'choix': 2.302585092994046, 'vou': 1.6094379124341003, 'regard': 2.302585092994046, 'vie': 1.6094379124341003, 'j': 2.302585092994046, 'seul': 2.302585092994046, 'voit': 1.6094379124341003, 'ceux': 2.302585092994046, 'donnent': 2.302585092994046, 'droit': 2.302585092994046, 'appel': 1.6094379124341003, 'aimé': 2.302585092994046, 'bienvenu': 2.302585092994046, 'désiré': 2.302585092994046, 'appelé': 2.302585092994046, 'destiné': 2.302585092994046, 'donné': 1.6094379124341003, 'nom-là': 2.302585092994046, 'mai': 1.2039728043259361, 'chanc': 2.302585092994046, 'on': 1.6094379124341003, 'pu': 2.302585092994046, 'mauvais': 2.302585092994046, 'grain': 2.302585092994046, 'détesté': 2.302585092994046, 'méprisé': 2.302585092994046, 'perdu': 2.302585092994046, 'jamai': 2.302585092994046, 'en': 2.302585092994046, 'sortant': 2.302585092994046, 'école': 2.302585092994046, 'rencontré': 2.302585092994046, 'chemin': 2.302585092994046, 'fer': 1.6094379124341003, 'emmené': 2.302585092994046, 'autour': 2.302585092994046, 'terr': 1.6094379124341003, 'wagon': 2.302585092994046, 'doré': 1.6094379124341003, 'mer': 1.6094379124341003, 'promenait': 2.302585092994046, 'coquillag': 2.302585092994046, 'île': 2.302585092994046, 'parfumé': 2.302585092994046, 'beaux': 2.302585092994046, 'naufrag': 2.302585092994046, 'saumon': 2.302585092994046, 'fumé': 2.302585092994046, 'au-dessu': 2.302585092994046, 'lune': 2.302585092994046, 'étoil': 2.302585092994046, 'bateau': 2.302585092994046, 'voil': 2.302585092994046, 'partant': 2.302585092994046, 'japon': 2.302585092994046, 'troi': 2.302585092994046, 'mousquetair': 2.302585092994046, 'cinq': 2.302585092994046, 'doigt': 2.302585092994046, 'main': 2.302585092994046, 'tournant': 2.302585092994046, 'manivel': 2.302585092994046, 'sous-marin': 2.302585092994046, 'plongeant': 2.302585092994046, 'chercher': 2.302585092994046, 'oursin': 2.302585092994046, 'reven': 2.302585092994046, 'voie': 2.302585092994046, 'maison': 2.302585092994046, 'fuyait': 2.302585092994046, 'hiver': 2.302585092994046, 'attrap': 2.302585092994046, 'rouler': 2.302585092994046, 'derrièr': 2.302585092994046, 'écrasé': 2.302585092994046, 'arrêté': 2.302585092994046, 'printemp': 2.302585092994046, 'salué': 2.302585092994046, 'garde-barrièr': 2.302585092994046, 'remercié': 2.302585092994046, 'fleur': 2.302585092994046, 'mise': 2.302585092994046, 'pousser': 2.302585092994046, 'traver': 2.302585092994046, 'avanc': 2.302585092994046, 'abîmer': 2.302585092994046, 'alor': 1.2039728043259361, 'revenu': 2.302585092994046, 'pie': 1.2039728043259361, 'soleil': 1.6094379124341003, 'cheval': 2.302585092994046, 'voitur': 2.302585092994046, 'kabyl': 2.302585092994046, 'chapel': 2.302585092994046, 'quai': 2.302585092994046, 'javel': 2.302585092994046, 'pay': 2.302585092994046, 'lointain': 2.302585092994046, 'cobay': 2.302585092994046, 'coloni': 2.302585092994046, 'doux': 2.302585092994046, 'adolesc': 2.302585092994046, 'port': 2.302585092994046, 'itali': 2.302585092994046, 'boumian': 2.302585092994046, 'saint-ouen': 2.302585092994046, 'apatrid': 2.302585092994046, 'aubervilli': 2.302585092994046, 'brûleur': 2.302585092994046, 'ordur': 2.302585092994046, 'vill': 2.302585092994046, 'pari': 2.302585092994046, 'ébouillanteur': 2.302585092994046, 'bête': 2.302585092994046, 'trouvé': 2.302585092994046, 'mort': 2.302585092994046, 'beau': 2.302585092994046, 'milieu': 2.302585092994046, 'rue': 1.6094379124341003, 'tunisien': 2.302585092994046, 'grenel': 2.302585092994046, 'embauché': 2.302585092994046, 'débauché': 2.302585092994046, 'manoeuvr': 2.302585092994046, 'désoeuvré': 2.302585092994046, 'polack': 2.302585092994046, 'marai': 2.302585092994046, 'templ': 2.302585092994046, 'rosier': 2.302585092994046, 'cordonni': 2.302585092994046, 'cordou': 2.302585092994046, 'soutier': 2.302585092994046, 'barcelon': 2.302585092994046, 'pêcheur': 2.302585092994046, 'baléar': 2.302585092994046, 'finisterr': 2.302585092994046, 'rescapé': 2.302585092994046, 'franco': 2.302585092994046, 'déporté': 2.302585092994046, 'franc': 2.302585092994046, 'navarr': 2.302585092994046, 'avoir': 2.302585092994046, 'défendu': 2.302585092994046, 'vôtre': 2.302585092994046, 'liberté': 2.302585092994046, 'esclav': 2.302585092994046, 'fréju': 2.302585092994046, 'tiraillé': 2.302585092994046, 'parqué': 2.302585092994046, 'bord': 2.302585092994046, 'où': 2.302585092994046, 'peu': 2.302585092994046, 'baignez': 2.302585092994046, 'évoquez': 2.302585092994046, 'chaqu': 2.302585092994046, 'locaux': 2.302585092994046, 'disciplinair': 2.302585092994046, 'vieill': 2.302585092994046, 'boît': 2.302585092994046, 'cigar': 2.302585092994046, 'quelqu': 1.6094379124341003, 'fil': 2.302585092994046, 'écho': 2.302585092994046, 'villag': 2.302585092994046, 'oiseaux': 2.302585092994046, 'forêt': 2.302585092994046, 'venez': 2.302585092994046, 'capital': 2.302585092994046, 'fêter': 2.302585092994046, 'cadencé': 2.302585092994046, 'prise': 2.302585092994046, 'bastil': 2.302585092994046, 'quatorz': 2.302585092994046, 'juillet': 2.302585092994046, 'sénégal': 2.302585092994046, 'dépatrié': 2.302585092994046, 'expatrié': 2.302585092994046, 'naturalisé': 2.302585092994046, 'indochinoi': 2.302585092994046, 'jongleur': 2.302585092994046, 'innoc': 2.302585092994046, 'couteaux': 2.302585092994046, 'vendiez': 2.302585092994046, 'autrefoi': 2.302585092994046, 'terrass': 2.302585092994046, 'café': 2.302585092994046, 'joli': 2.302585092994046, 'dragon': 2.302585092994046, 'papier': 2.302585092994046, 'plié': 2.302585092994046, 'tôt': 2.302585092994046, 'grandi': 2.302585092994046, 'si': 1.6094379124341003, 'vite': 2.302585092994046, 'allé': 2.302585092994046, 'dormez': 2.302585092994046, 'aujourd': 2.302585092994046, 'hui': 2.302585092994046, 'retour': 2.302585092994046, 'bomb': 2.302585092994046, 'incendiair': 2.302585092994046, 'labour': 2.302585092994046, 'rizièr': 2.302585092994046, 'renvoyé': 2.302585092994046, 'monnai': 2.302585092994046, 'retourné': 2.302585092994046, 'do': 2.302585092994046, 'étrang': 1.6094379124341003, 'étranger': 1.6094379124341003, 'mal': 2.302585092994046, 'vivez': 2.302585092994046, 'mourez': 2.302585092994046, 'deux': 2.302585092994046, 'quatr': 2.302585092994046, 'huit': 2.302585092994046, 'font': 2.302585092994046, 'seize…': 2.302585092994046, 'répétez': 2.302585092994046, '!': 1.6094379124341003, 'oiseau-lyr': 2.302585092994046, 'qui': 2.302585092994046, 'pass': 2.302585092994046, 'ciel': 2.302585092994046, 'l': 2.302585092994046, 'entend': 2.302585092994046, ':': 2.302585092994046, 'sauve-moi': 2.302585092994046, 'joue': 2.302585092994046, 'oiseau': 2.302585092994046, 'descend': 2.302585092994046, 'quatre…': 2.302585092994046, 'lui…': 2.302585092994046, 'seiz': 2.302585092994046, '?': 2.302585092994046, 'surtout': 2.302585092994046, 'trente-deux': 2.302585092994046, 'de': 2.302585092994046, 'façon': 2.302585092994046, 'vont': 1.6094379124341003, 'caché': 2.302585092994046, 'dan': 2.302585092994046, 'pupitr': 2.302585092994046, 'tour': 2.302585092994046, 'fichent': 2.302585092994046, 'camp': 2.302585092994046, 'ni': 2.302585092994046, 'un': 2.302585092994046, 'également': 2.302585092994046, 'chant': 2.302585092994046, 'crie': 2.302585092994046, 'quand': 2.302585092994046, 'fini': 2.302585092994046, 'pitr': 2.302585092994046, 'écoutent': 2.302585092994046, 'mur': 2.302585092994046, 'class': 2.302585092994046, 's': 2.302585092994046, 'écroulent': 2.302585092994046, 'vitr': 2.302585092994046, 'redevienn': 2.302585092994046, 'sabl': 2.302585092994046, 'encr': 2.302585092994046, 'redevi': 2.302585092994046, 'eau': 1.6094379124341003, 'arbr': 2.302585092994046, 'la': 2.302585092994046, 'craie': 2.302585092994046, 'falais': 2.302585092994046, 'porte-plum': 2.302585092994046, 'être': 2.302585092994046, 'ang': 2.302585092994046, 'âne': 2.302585092994046, 'étrâne': 2.302585092994046, 'veut': 2.302585092994046, 'haussant': 2.302585092994046, 'ail': 2.302585092994046, 'pourtant': 2.302585092994046, 'tapant': 2.302585092994046, 'vous-mêm': 2.302585092994046, 'envol': 2.302585092994046, 'sali': 2.302585092994046, 'excus': 2.302585092994046, 'homme-sandwich': 2.302585092994046, 'prospectu': 2.302585092994046, 'armé': 2.302585092994046, 'salut': 2.302585092994046, 'là': 2.302585092994046, 'froissé': 2.302585092994046, 'ruisseau': 2.302585092994046, 'couler': 2.302585092994046, 'pardonnez-moi': 2.302585092994046, 'cett': 2.302585092994046, 'offens': 2.302585092994046, 'éboueur': 2.302585092994046, 'passer': 2.302585092994046, 'valet': 2.302585092994046, 'mécaniqu': 2.302585092994046, 'effacé': 2.302585092994046, 'dirai': 2.302585092994046, 'salu': 2.302585092994046, 'plein': 2.302585092994046, 'ogress': 2.302585092994046, 'charmant': 2.302585092994046, 'comm': 2.302585092994046, 'cont': 2.302585092994046, 'chinoi': 2.302585092994046, 'plantent': 2.302585092994046, 'épée': 2.302585092994046, 'cristal': 2.302585092994046, 'plaisir': 2.302585092994046, 'plaie': 2.302585092994046, 'heureus': 2.302585092994046, 'désir': 2.302585092994046, 'grâce': 2.302585092994046}\n",
            "[{}, {}, {}, {}, {}, {}, {}, {}, {}, {}, {'il': 0.9162907318741551, 'dit': 3.6651629274966204, 'non': 3.2188758248682006, 'tête': 1.6094379124341003, 'oui': 3.2188758248682006, 'coeur': 1.2039728043259361, '’': 0.0, 'aim': 1.6094379124341003, 'professeur': 1.6094379124341003, 'debout': 2.302585092994046, 'questionn': 2.302585092994046, 'tou': 0.6931471805599453, 'problèm': 2.302585092994046, 'posé': 2.302585092994046, 'soudain': 1.6094379124341003, 'fou': 2.302585092994046, 'rire': 2.302585092994046, 'prend': 2.302585092994046, 'effac': 2.302585092994046, 'tout': 1.0216512475319814, 'chiffr': 2.302585092994046, 'mot': 1.6094379124341003, 'date': 2.302585092994046, 'nom': 1.6094379124341003, 'phrase': 2.302585092994046, 'pièg': 2.302585092994046, 'malgré': 2.302585092994046, 'menac': 2.302585092994046, 'maîtr': 1.6094379124341003, 'sou': 2.302585092994046, 'huée': 2.302585092994046, 'enfant': 1.2039728043259361, 'prodig': 2.302585092994046, 'crai': 2.302585092994046, 'couleur': 2.302585092994046, 'tableau': 2.302585092994046, 'noir': 1.6094379124341003, 'malheur': 2.302585092994046, 'dessin': 2.302585092994046, 'visag': 1.2039728043259361, 'bonheur': 2.302585092994046, '.': 0.0}, {'le': 1.6094379124341003, 'tendr': 2.302585092994046, 'dangereux': 2.302585092994046, 'visag': 1.2039728043259361, '’': 0.0, 'amour': 4.605170185988092, 'apparu': 2.302585092994046, 'soir': 1.2039728043259361, 'aprè': 2.302585092994046, 'trop': 3.2188758248682006, 'long': 2.302585092994046, 'jour': 1.6094379124341003, 'c': 1.2039728043259361, 'peut-êtr': 4.828313737302301, 'archer': 2.302585092994046, 'arc': 2.302585092994046, 'bien': 0.9162907318741551, 'musicien': 1.6094379124341003, 'harp': 2.302585092994046, 'je': 1.3862943611198906, 'sai': 4.8158912173037445, 'plu': 0.6931471805599453, 'rien': 0.6931471805599453, 'tout': 1.0216512475319814, 'a': 0.7133498878774648, 'blessé': 6.907755278982138, 'flèche': 2.302585092994046, 'chanson': 1.6094379124341003, 'coeur': 1.2039728043259361, 'toujour': 2.302585092994046, 'brûlant': 4.605170185988092, 'blessur': 2.302585092994046, '.': 0.0}, {'il': 1.8325814637483102, 'interdit': 2.302585092994046, 'fair': 3.2188758248682006, 'musiqu': 1.6094379124341003, 'plu': 2.0794415416798357, 'vingt-quatr': 2.302585092994046, 'heur': 2.302585092994046, 'jour': 1.6094379124341003, 'ça': 4.605170185988092, 'finira': 2.302585092994046, 'tort': 1.6094379124341003, 'hier': 2.302585092994046, 'soir': 1.2039728043259361, 'hindou': 2.302585092994046, 'amnésiqu': 2.302585092994046, 'a': 2.1400496636323942, 'mi': 1.6094379124341003, 'tou': 1.3862943611198906, 'souvenir': 4.828313737302301, 'gross': 4.605170185988092, 'boul': 6.907755278982138, 'or': 1.6094379124341003, 'roulé': 2.302585092994046, 'fond': 3.2188758248682006, '’': 0.0, 'corridor': 2.302585092994046, 'pui': 3.2188758248682006, 'escali': 2.302585092994046, 'dégringolé': 2.302585092994046, 'renvers': 2.302585092994046, 'monsieur': 4.605170185988092, 'devant': 1.6094379124341003, 'loge': 2.302585092994046, 'concierg': 2.302585092994046, 'voulait': 1.6094379124341003, 'dire': 1.6094379124341003, 'nom': 3.2188758248682006, 'rentrant': 2.302585092994046, 'et': 2.4079456086518722, 'jeté': 1.6094379124341003, 'tête': 1.6094379124341003, 'dit': 0.9162907318741551, 'place': 2.302585092994046, 'sien': 2.302585092994046, 'mainten': 6.907755278982138, 'voilà': 1.6094379124341003, 'tranquil': 1.6094379124341003, 'bon': 1.6094379124341003, 'petit': 2.4079456086518722, 'bout': 1.6094379124341003, 'temp': 2.302585092994046, 'tout': 1.0216512475319814, 'pri': 2.302585092994046, 'souvien': 4.605170185988092, 'rien': 1.3862943611198906, 'parti': 2.302585092994046, 'sanglot': 2.302585092994046, 'tomb': 2.302585092994046, 'grand-pèr': 2.302585092994046, 'paternel': 2.302585092994046, 'judicieux': 2.302585092994046, 'éleveur': 2.302585092994046, 'sauterel': 2.302585092994046, 'homm': 1.6094379124341003, 'valait': 2.302585092994046, 'grand': 6.01986402162968, 'chose': 3.2188758248682006, 'peur': 1.6094379124341003, 'portait': 2.302585092994046, 'bretel': 2.302585092994046, 'mauv': 6.907755278982138, 'sa': 2.302585092994046, 'femm': 2.302585092994046, 'appelait': 2.302585092994046, 'vaurien': 2.302585092994046, 'saurien': 4.605170185988092, 'peut-êtr': 4.828313737302301, 'oui': 1.6094379124341003, 'cela': 1.2039728043259361, 'croi': 2.302585092994046, 'bien': 0.9162907318741551, 'autr': 1.2039728043259361, 'est-c': 3.2188758248682006, 'sai': 1.2039728043259361, 'futilité': 2.302585092994046, 'tiroir': 2.302585092994046, 'miett': 2.302585092994046, 'gravat': 2.302585092994046, 'mémoir': 9.210340371976184, 'je': 0.6931471805599453, 'connai': 2.302585092994046, 'fin': 2.302585092994046, 'mot': 6.437751649736401, 'histoir': 2.302585092994046, 'comment': 2.302585092994046, 'est-el': 2.302585092994046, 'fait': 1.6094379124341003, 'quoi': 4.605170185988092, 'a-t-el': 2.302585092994046, 'air': 4.605170185988092, 'aura-t-el': 2.302585092994046, 'tard': 1.6094379124341003, 'vert': 2.302585092994046, 'vacanc': 2.302585092994046, 'devenu': 2.302585092994046, 'panier': 2.302585092994046, 'osier': 2.302585092994046, 'sanglant': 2.302585092994046, 'mond': 2.302585092994046, 'assassiné': 2.302585092994046, 'dedan': 2.302585092994046, 'étiquett': 2.302585092994046, 'haut': 2.302585092994046, 'ba': 2.302585092994046, 'fragil': 2.302585092994046, 'lettr': 2.302585092994046, 'roug': 2.302585092994046, 'bleue': 2.302585092994046, 'pourquoi': 1.6094379124341003, 'enfin': 2.302585092994046, 'grise': 2.302585092994046, 'rose': 2.302585092994046, 'puisqu': 2.302585092994046, 'choix': 2.302585092994046, '.': 0.0}, {'vou': 1.6094379124341003, 'je': 0.6931471805599453, 'regard': 9.210340371976184, 'vie': 1.6094379124341003, 'non': 1.6094379124341003, 'plu': 0.6931471805599453, 'j': 4.605170185988092, '’': 0.0, 'aim': 6.437751649736401, 'cela': 1.2039728043259361, 'seul': 2.302585092994046, 'voit': 1.6094379124341003, 'ceux': 2.302585092994046, 'donnent': 2.302585092994046, 'droit': 2.302585092994046, '.': 0.0}, {'il': 0.9162907318741551, 'a': 1.0700248318161971, '’': 0.0, 'appel': 3.2188758248682006, 'aimé': 2.302585092994046, 'bienvenu': 2.302585092994046, 'désiré': 2.302585092994046, 'appelé': 2.302585092994046, 'destiné': 2.302585092994046, 'je': 0.6931471805599453, 'sai': 2.4079456086518722, 'pourquoi': 1.6094379124341003, 'donné': 1.6094379124341003, 'nom-là': 2.302585092994046, 'mai': 1.2039728043259361, 'chanc': 2.302585092994046, 'on': 1.6094379124341003, 'pu': 2.302585092994046, 'bon': 1.6094379124341003, 'rien': 0.6931471805599453, 'mauvais': 2.302585092994046, 'grain': 2.302585092994046, 'détesté': 2.302585092994046, 'méprisé': 2.302585092994046, 'perdu': 2.302585092994046, 'jamai': 2.302585092994046, '.': 0.0}, {'en': 2.302585092994046, 'sortant': 2.302585092994046, '’': 0.0, 'école': 2.302585092994046, 'rencontré': 9.210340371976184, 'grand': 1.2039728043259361, 'chemin': 9.210340371976184, 'fer': 6.437751649736401, 'a': 1.783374719693662, 'emmené': 2.302585092994046, 'tout': 4.597430613893916, 'autour': 16.11809565095832, 'terr': 9.656627474604601, 'wagon': 2.302585092994046, 'doré': 1.6094379124341003, 'mer': 8.047189562170502, 'promenait': 2.302585092994046, 'tou': 0.6931471805599453, 'coquillag': 2.302585092994046, 'île': 2.302585092994046, 'parfumé': 2.302585092994046, 'pui': 1.6094379124341003, 'beaux': 2.302585092994046, 'naufrag': 2.302585092994046, 'saumon': 2.302585092994046, 'fumé': 2.302585092994046, 'au-dessu': 2.302585092994046, 'lune': 4.605170185988092, 'étoil': 4.605170185988092, 'bateau': 4.605170185988092, 'voil': 4.605170185988092, 'partant': 2.302585092994046, 'japon': 2.302585092994046, 'troi': 2.302585092994046, 'mousquetair': 2.302585092994046, 'cinq': 2.302585092994046, 'doigt': 2.302585092994046, 'main': 2.302585092994046, 'tournant': 2.302585092994046, 'manivel': 2.302585092994046, 'petit': 1.2039728043259361, 'sous-marin': 2.302585092994046, 'plongeant': 2.302585092994046, 'fond': 1.6094379124341003, 'chercher': 2.302585092994046, 'oursin': 2.302585092994046, 'reven': 2.302585092994046, 'voie': 4.605170185988092, 'maison': 4.605170185988092, 'fuyait': 9.210340371976184, 'devant': 1.6094379124341003, 'hiver': 4.605170185988092, 'voulait': 3.2188758248682006, 'attrap': 2.302585092994046, 'mai': 1.2039728043259361, 'mi': 1.6094379124341003, 'rouler': 4.605170185988092, 'derrièr': 2.302585092994046, 'écrasé': 2.302585092994046, 'arrêté': 2.302585092994046, 'printemp': 2.302585092994046, 'salué': 2.302585092994046, 'c': 1.2039728043259361, 'garde-barrièr': 2.302585092994046, 'bien': 0.9162907318741551, 'remercié': 2.302585092994046, 'fleur': 2.302585092994046, 'soudain': 1.6094379124341003, 'mise': 2.302585092994046, 'pousser': 4.605170185988092, 'tort': 1.6094379124341003, 'traver': 2.302585092994046, 'plu': 0.6931471805599453, 'avanc': 2.302585092994046, 'peur': 1.6094379124341003, 'abîmer': 2.302585092994046, 'alor': 1.2039728043259361, 'revenu': 2.302585092994046, 'pie': 4.8158912173037445, 'soleil': 1.6094379124341003, 'cheval': 2.302585092994046, 'voitur': 2.302585092994046, '.': 0.0}, {'kabyl': 2.302585092994046, 'chapel': 2.302585092994046, 'quai': 2.302585092994046, 'javel': 2.302585092994046, 'homm': 1.6094379124341003, 'pay': 4.605170185988092, 'lointain': 2.302585092994046, 'cobay': 2.302585092994046, 'coloni': 2.302585092994046, 'doux': 2.302585092994046, 'petit': 3.6119184129778086, 'musicien': 1.6094379124341003, 'soleil': 1.6094379124341003, 'adolesc': 2.302585092994046, 'port': 4.605170185988092, '’': 0.0, 'itali': 2.302585092994046, 'boumian': 2.302585092994046, 'saint-ouen': 2.302585092994046, 'apatrid': 2.302585092994046, 'aubervilli': 2.302585092994046, 'brûleur': 2.302585092994046, 'grand': 1.2039728043259361, 'ordur': 2.302585092994046, 'vill': 4.605170185988092, 'pari': 2.302585092994046, 'ébouillanteur': 2.302585092994046, 'bête': 2.302585092994046, 'trouvé': 2.302585092994046, 'mort': 2.302585092994046, 'pie': 1.2039728043259361, 'beau': 2.302585092994046, 'milieu': 2.302585092994046, 'rue': 1.6094379124341003, 'tunisien': 2.302585092994046, 'grenel': 2.302585092994046, 'embauché': 2.302585092994046, 'débauché': 2.302585092994046, 'manoeuvr': 2.302585092994046, 'désoeuvré': 2.302585092994046, 'polack': 2.302585092994046, 'marai': 2.302585092994046, 'templ': 2.302585092994046, 'rosier': 2.302585092994046, 'cordonni': 2.302585092994046, 'cordou': 2.302585092994046, 'soutier': 2.302585092994046, 'barcelon': 2.302585092994046, 'pêcheur': 2.302585092994046, 'baléar': 2.302585092994046, 'bien': 0.9162907318741551, 'finisterr': 2.302585092994046, 'rescapé': 2.302585092994046, 'franco': 2.302585092994046, 'déporté': 2.302585092994046, 'franc': 2.302585092994046, 'navarr': 2.302585092994046, 'avoir': 2.302585092994046, 'défendu': 2.302585092994046, 'souvenir': 1.6094379124341003, 'vôtre': 2.302585092994046, 'liberté': 2.302585092994046, 'autr': 1.2039728043259361, 'esclav': 4.605170185988092, 'noir': 3.2188758248682006, 'fréju': 4.605170185988092, 'tiraillé': 2.302585092994046, 'parqué': 2.302585092994046, 'bord': 2.302585092994046, 'mer': 1.6094379124341003, 'où': 2.302585092994046, 'peu': 2.302585092994046, 'baignez': 2.302585092994046, 'évoquez': 2.302585092994046, 'chaqu': 2.302585092994046, 'soir': 1.2039728043259361, 'locaux': 2.302585092994046, 'disciplinair': 2.302585092994046, 'vieill': 2.302585092994046, 'boît': 2.302585092994046, 'cigar': 2.302585092994046, 'quelqu': 1.6094379124341003, 'bout': 1.6094379124341003, 'fil': 2.302585092994046, 'fer': 1.6094379124341003, 'tou': 1.3862943611198906, 'écho': 2.302585092994046, 'villag': 2.302585092994046, 'oiseaux': 2.302585092994046, 'forêt': 2.302585092994046, 'venez': 2.302585092994046, 'capital': 2.302585092994046, 'fêter': 2.302585092994046, 'cadencé': 2.302585092994046, 'prise': 2.302585092994046, 'bastil': 2.302585092994046, 'quatorz': 2.302585092994046, 'juillet': 2.302585092994046, 'enfant': 3.6119184129778086, 'sénégal': 2.302585092994046, 'dépatrié': 2.302585092994046, 'expatrié': 2.302585092994046, 'naturalisé': 2.302585092994046, 'indochinoi': 2.302585092994046, 'jongleur': 2.302585092994046, 'innoc': 2.302585092994046, 'couteaux': 4.605170185988092, 'vendiez': 2.302585092994046, 'autrefoi': 2.302585092994046, 'terrass': 2.302585092994046, 'café': 2.302585092994046, 'joli': 2.302585092994046, 'dragon': 2.302585092994046, 'or': 1.6094379124341003, 'fait': 1.6094379124341003, 'papier': 4.605170185988092, 'plié': 2.302585092994046, 'trop': 1.6094379124341003, 'tôt': 2.302585092994046, 'grandi': 2.302585092994046, 'si': 4.828313737302301, 'vite': 2.302585092994046, 'allé': 2.302585092994046, 'dormez': 2.302585092994046, 'aujourd': 2.302585092994046, 'hui': 2.302585092994046, 'retour': 2.302585092994046, 'visag': 1.2039728043259361, 'terr': 1.6094379124341003, 'bomb': 2.302585092994046, 'incendiair': 2.302585092994046, 'labour': 2.302585092994046, 'rizièr': 2.302585092994046, 'on': 1.6094379124341003, 'a': 0.7133498878774648, 'renvoyé': 2.302585092994046, 'monnai': 2.302585092994046, 'doré': 1.6094379124341003, 'retourné': 2.302585092994046, 'do': 2.302585092994046, 'étrang': 1.6094379124341003, 'étranger': 1.6094379124341003, 'vou': 1.6094379124341003, 'vie': 1.6094379124341003, 'mal': 2.302585092994046, 'vivez': 2.302585092994046, 'mourez': 2.302585092994046, '.': 0.0}, {'deux': 20.723265836946414, 'quatr': 23.02585092994046, 'huit': 25.328436022934504, 'font': 13.815510557964275, 'seize…': 4.605170185988092, 'répétez': 4.605170185988092, '!': 6.437751649736401, 'dit': 1.8325814637483102, 'maîtr': 3.2188758248682006, 'mai': 2.4079456086518722, 'voilà': 1.6094379124341003, '’': 0.0, 'oiseau-lyr': 4.605170185988092, 'qui': 2.302585092994046, 'pass': 2.302585092994046, 'ciel': 2.302585092994046, 'l': 11.51292546497023, 'enfant': 12.03972804325936, 'voit': 1.6094379124341003, 'entend': 6.907755278982138, 'appel': 1.6094379124341003, ':': 4.605170185988092, 'sauve-moi': 2.302585092994046, 'joue': 11.51292546497023, 'oiseau': 11.51292546497023, 'alor': 1.2039728043259361, 'descend': 2.302585092994046, 'et': 19.263564869214978, 'quatre…': 2.302585092994046, 'lui…': 2.302585092994046, 'seiz': 11.51292546497023, 'est-c': 1.6094379124341003, '?': 2.302585092994046, 'il': 0.9162907318741551, 'rien': 0.6931471805599453, 'surtout': 2.302585092994046, 'trente-deux': 2.302585092994046, 'de': 2.302585092994046, 'tout': 0.5108256237659907, 'façon': 2.302585092994046, 'vont': 4.828313737302301, '.': 0.0, 'a': 0.7133498878774648, 'caché': 2.302585092994046, 'dan': 2.302585092994046, 'pupitr': 4.605170185988092, 'tou': 2.0794415416798357, 'chanson': 1.6094379124341003, 'musiqu': 3.2188758248682006, 'tour': 4.605170185988092, 'fichent': 2.302585092994046, 'camp': 2.302585092994046, 'ni': 4.605170185988092, 'un': 2.302585092994046, 'également': 2.302585092994046, 'chant': 2.302585092994046, 'professeur': 1.6094379124341003, 'crie': 2.302585092994046, 'quand': 2.302585092994046, 'fini': 2.302585092994046, 'fair': 1.6094379124341003, 'pitr': 2.302585092994046, 'autr': 1.2039728043259361, 'écoutent': 2.302585092994046, 'mur': 2.302585092994046, 'class': 2.302585092994046, 's': 2.302585092994046, 'écroulent': 2.302585092994046, 'tranquil': 1.6094379124341003, 'vitr': 2.302585092994046, 'redevienn': 4.605170185988092, 'sabl': 2.302585092994046, 'encr': 2.302585092994046, 'redevi': 6.907755278982138, 'eau': 1.6094379124341003, 'le': 3.2188758248682006, 'arbr': 2.302585092994046, 'la': 2.302585092994046, 'craie': 2.302585092994046, 'falais': 2.302585092994046, 'porte-plum': 2.302585092994046}, {'être': 4.605170185988092, 'ang': 9.210340371976184, 'c': 2.4079456086518722, '’': 0.0, 'étrang': 8.047189562170502, 'dit': 5.497744391244931, 'âne': 9.210340371976184, 'étrâne': 4.605170185988092, 'cela': 1.2039728043259361, 'veut': 4.605170185988092, 'rien': 0.6931471805599453, 'dire': 3.2188758248682006, 'haussant': 2.302585092994046, 'ail': 2.302585092994046, 'pourtant': 2.302585092994046, 'si': 1.6094379124341003, 'quelqu': 1.6094379124341003, 'chose': 1.6094379124341003, 'plu': 0.6931471805599453, '!': 1.6094379124341003, 'tapant': 2.302585092994046, 'pie': 1.2039728043259361, 'étranger': 1.6094379124341003, 'vous-mêm': 2.302585092994046, 'et': 1.2039728043259361, 'envol': 2.302585092994046, '.': 0.0}, {'je': 1.3862943611198906, 'sali': 2.302585092994046, 'rue': 4.828313737302301, '’': 0.0, 'excus': 2.302585092994046, 'homme-sandwich': 2.302585092994046, 'a': 0.3566749439387324, 'donné': 1.6094379124341003, 'prospectu': 2.302585092994046, 'armé': 2.302585092994046, 'salut': 2.302585092994046, 'jeté': 1.6094379124341003, 'là': 2.302585092994046, 'tout': 1.0216512475319814, 'froissé': 2.302585092994046, 'ruisseau': 2.302585092994046, 'eau': 1.6094379124341003, 'tard': 1.6094379124341003, 'couler': 2.302585092994046, 'pardonnez-moi': 2.302585092994046, 'cett': 2.302585092994046, 'offens': 2.302585092994046, 'éboueur': 4.605170185988092, 'vont': 1.6094379124341003, 'passer': 2.302585092994046, 'valet': 2.302585092994046, 'mécaniqu': 2.302585092994046, 'effacé': 2.302585092994046, 'alor': 1.2039728043259361, 'dirai': 2.302585092994046, 'salu': 4.605170185988092, 'plein': 4.605170185988092, 'ogress': 2.302585092994046, 'charmant': 2.302585092994046, 'comm': 2.302585092994046, 'cont': 2.302585092994046, 'chinoi': 2.302585092994046, 'plantent': 2.302585092994046, 'coeur': 1.2039728043259361, 'épée': 2.302585092994046, 'cristal': 2.302585092994046, 'plaisir': 2.302585092994046, 'plaie': 2.302585092994046, 'heureus': 2.302585092994046, 'désir': 2.302585092994046, 'grâce': 2.302585092994046, '.': 0.0}]\n"
          ]
        }
      ]
    },
    {
      "cell_type": "code",
      "source": [],
      "metadata": {
        "id": "JImlaydVUhh3"
      },
      "execution_count": null,
      "outputs": []
    }
  ]
}