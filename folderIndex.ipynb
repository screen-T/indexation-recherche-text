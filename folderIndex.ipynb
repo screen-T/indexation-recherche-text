{
  "nbformat": 4,
  "nbformat_minor": 0,
  "metadata": {
    "colab": {
      "provenance": [],
      "authorship_tag": "ABX9TyN8alXkqy+blZB+1utfz+yR",
      "include_colab_link": true
    },
    "kernelspec": {
      "name": "python3",
      "display_name": "Python 3"
    },
    "language_info": {
      "name": "python"
    }
  },
  "cells": [
    {
      "cell_type": "markdown",
      "metadata": {
        "id": "view-in-github",
        "colab_type": "text"
      },
      "source": [
        "<a href=\"https://colab.research.google.com/github/screen-T/indexation-recherche-text/blob/main/folderIndex.ipynb\" target=\"_parent\"><img src=\"https://colab.research.google.com/assets/colab-badge.svg\" alt=\"Open In Colab\"/></a>"
      ]
    },
    {
      "cell_type": "code",
      "execution_count": null,
      "metadata": {
        "id": "K-w9InZCU8fK"
      },
      "outputs": [],
      "source": [
        "import nltk \n",
        "nltk.download()"
      ]
    },
    {
      "cell_type": "code",
      "source": [
        "nltk.download('stopwords')\n",
        "from nltk.corpus import stopwords"
      ],
      "metadata": {
        "id": "3wCudlAOZY9a"
      },
      "execution_count": null,
      "outputs": []
    },
    {
      "cell_type": "code",
      "source": [
        "import os, sys\n",
        "from nltk.stem.porter import PorterStemmer\n",
        "path = \"/content/sample_data/corpus\"\n",
        "dirs = os.listdir( path )\n",
        "def stem_function(file):\n",
        "  tokens=[]\n",
        "  nl=[]\n",
        "  path = \"/content/sample_data/corpus\"\n",
        "  f=open(os.path.join(path, file))\n",
        "  text=f.read()  \n",
        "  tokens = nltk.word_tokenize(text)\n",
        "  for i in tokens:\n",
        "    if i not in stopwords.words('french'): \n",
        "      nl.append(i)\n",
        "  stemmer = PorterStemmer()\n",
        "  ftokens=[stemmer.stem(token) for token in nl]\n",
        "  return ftokens  \n",
        "def TermF_function(tokens):\n",
        "  tfdict={}\n",
        "  for t in tokens:\n",
        "    if t not in tfdict:\n",
        "        tfdict[t] = 1\n",
        "    elif t in tfdict:\n",
        "        tfdict[t] += 1\n",
        "  return tfdict\n",
        "res={}\n",
        "# fonction de dict globale \n",
        "def dic(k):\n",
        "  for  i in k:\n",
        "     if i in res:\n",
        "       res[i]=res[i]+k[i]\n",
        "     else:\n",
        "       res[i]=k[i]\n",
        "def idf(list):\n",
        "  return 0\n",
        "for file in dirs:\n",
        "   c={}\n",
        "   x=stem_function(file)\n",
        "   k=TermF_function(x)\n",
        "   dic(k)\n",
        "\n",
        "   for i in res:\n",
        "     if i not in c:\n",
        "       c[i]=0\n",
        "     if i in k:\n",
        "         c[i]=c[i]+1\n",
        "print(c)"
      ],
      "metadata": {
        "colab": {
          "base_uri": "https://localhost:8080/"
        },
        "id": "X0OOwGfxZ0CD",
        "outputId": "8f76fa50-2307-44dc-9512-329169b62dcd"
      },
      "execution_count": 58,
      "outputs": [
        {
          "output_type": "stream",
          "name": "stdout",
          "text": [
            "{'il': 0, 'dit': 0, 'non': 0, 'tête': 0, 'oui': 0, 'coeur': 1, '’': 1, 'aim': 0, 'professeur': 0, 'debout': 0, 'questionn': 0, 'tou': 0, 'problèm': 0, 'posé': 0, 'soudain': 0, 'fou': 0, 'rire': 0, 'prend': 0, 'effac': 0, 'tout': 1, 'chiffr': 0, 'mot': 0, 'date': 0, 'nom': 0, 'phrase': 0, 'pièg': 0, 'malgré': 0, 'menac': 0, 'maîtr': 0, 'sou': 0, 'huée': 0, 'enfant': 0, 'prodig': 0, 'crai': 0, 'couleur': 0, 'tableau': 0, 'noir': 0, 'malheur': 0, 'dessin': 0, 'visag': 0, 'bonheur': 0, '.': 1, 'le': 0, 'tendr': 0, 'dangereux': 0, 'amour': 0, 'apparu': 0, 'soir': 0, 'aprè': 0, 'trop': 0, 'long': 0, 'jour': 0, 'c': 0, 'peut-êtr': 0, 'archer': 0, 'arc': 0, 'bien': 0, 'musicien': 0, 'harp': 0, 'je': 1, 'sai': 0, 'plu': 0, 'rien': 0, 'a': 1, 'blessé': 0, 'flèche': 0, 'chanson': 0, 'toujour': 0, 'brûlant': 0, 'blessur': 0, 'interdit': 0, 'fair': 0, 'musiqu': 0, 'vingt-quatr': 0, 'heur': 0, 'ça': 0, 'finira': 0, 'tort': 0, 'hier': 0, 'hindou': 0, 'amnésiqu': 0, 'mi': 0, 'souvenir': 0, 'gross': 0, 'boul': 0, 'or': 0, 'roulé': 0, 'fond': 0, 'corridor': 0, 'pui': 0, 'escali': 0, 'dégringolé': 0, 'renvers': 0, 'monsieur': 0, 'devant': 0, 'loge': 0, 'concierg': 0, 'voulait': 0, 'dire': 0, 'rentrant': 0, 'et': 0, 'jeté': 1, 'place': 0, 'sien': 0, 'mainten': 0, 'voilà': 0, 'tranquil': 0, 'bon': 0, 'petit': 0, 'bout': 0, 'temp': 0, 'pri': 0, 'souvien': 0, 'parti': 0, 'sanglot': 0, 'tomb': 0, 'grand-pèr': 0, 'paternel': 0, 'judicieux': 0, 'éleveur': 0, 'sauterel': 0, 'homm': 0, 'valait': 0, 'grand': 0, 'chose': 0, 'peur': 0, 'portait': 0, 'bretel': 0, 'mauv': 0, 'sa': 0, 'femm': 0, 'appelait': 0, 'vaurien': 0, 'saurien': 0, 'cela': 0, 'croi': 0, 'autr': 0, 'est-c': 0, 'futilité': 0, 'tiroir': 0, 'miett': 0, 'gravat': 0, 'mémoir': 0, 'connai': 0, 'fin': 0, 'histoir': 0, 'comment': 0, 'est-el': 0, 'fait': 0, 'quoi': 0, 'a-t-el': 0, 'air': 0, 'aura-t-el': 0, 'tard': 1, 'vert': 0, 'vacanc': 0, 'devenu': 0, 'panier': 0, 'osier': 0, 'sanglant': 0, 'mond': 0, 'assassiné': 0, 'dedan': 0, 'étiquett': 0, 'haut': 0, 'ba': 0, 'fragil': 0, 'lettr': 0, 'roug': 0, 'bleue': 0, 'pourquoi': 0, 'enfin': 0, 'grise': 0, 'rose': 0, 'puisqu': 0, 'choix': 0, 'vou': 0, 'regard': 0, 'vie': 0, 'j': 0, 'seul': 0, 'voit': 0, 'ceux': 0, 'donnent': 0, 'droit': 0, 'appel': 0, 'aimé': 0, 'bienvenu': 0, 'désiré': 0, 'appelé': 0, 'destiné': 0, 'donné': 1, 'nom-là': 0, 'mai': 0, 'chanc': 0, 'on': 0, 'pu': 0, 'mauvais': 0, 'grain': 0, 'détesté': 0, 'méprisé': 0, 'perdu': 0, 'jamai': 0, 'en': 0, 'sortant': 0, 'école': 0, 'rencontré': 0, 'chemin': 0, 'fer': 0, 'emmené': 0, 'autour': 0, 'terr': 0, 'wagon': 0, 'doré': 0, 'mer': 0, 'promenait': 0, 'coquillag': 0, 'île': 0, 'parfumé': 0, 'beaux': 0, 'naufrag': 0, 'saumon': 0, 'fumé': 0, 'au-dessu': 0, 'lune': 0, 'étoil': 0, 'bateau': 0, 'voil': 0, 'partant': 0, 'japon': 0, 'troi': 0, 'mousquetair': 0, 'cinq': 0, 'doigt': 0, 'main': 0, 'tournant': 0, 'manivel': 0, 'sous-marin': 0, 'plongeant': 0, 'chercher': 0, 'oursin': 0, 'reven': 0, 'voie': 0, 'maison': 0, 'fuyait': 0, 'hiver': 0, 'attrap': 0, 'rouler': 0, 'derrièr': 0, 'écrasé': 0, 'arrêté': 0, 'printemp': 0, 'salué': 0, 'garde-barrièr': 0, 'remercié': 0, 'fleur': 0, 'mise': 0, 'pousser': 0, 'traver': 0, 'avanc': 0, 'abîmer': 0, 'alor': 1, 'revenu': 0, 'pie': 0, 'soleil': 0, 'cheval': 0, 'voitur': 0, 'kabyl': 0, 'chapel': 0, 'quai': 0, 'javel': 0, 'pay': 0, 'lointain': 0, 'cobay': 0, 'coloni': 0, 'doux': 0, 'adolesc': 0, 'port': 0, 'itali': 0, 'boumian': 0, 'saint-ouen': 0, 'apatrid': 0, 'aubervilli': 0, 'brûleur': 0, 'ordur': 0, 'vill': 0, 'pari': 0, 'ébouillanteur': 0, 'bête': 0, 'trouvé': 0, 'mort': 0, 'beau': 0, 'milieu': 0, 'rue': 1, 'tunisien': 0, 'grenel': 0, 'embauché': 0, 'débauché': 0, 'manoeuvr': 0, 'désoeuvré': 0, 'polack': 0, 'marai': 0, 'templ': 0, 'rosier': 0, 'cordonni': 0, 'cordou': 0, 'soutier': 0, 'barcelon': 0, 'pêcheur': 0, 'baléar': 0, 'finisterr': 0, 'rescapé': 0, 'franco': 0, 'déporté': 0, 'franc': 0, 'navarr': 0, 'avoir': 0, 'défendu': 0, 'vôtre': 0, 'liberté': 0, 'esclav': 0, 'fréju': 0, 'tiraillé': 0, 'parqué': 0, 'bord': 0, 'où': 0, 'peu': 0, 'baignez': 0, 'évoquez': 0, 'chaqu': 0, 'locaux': 0, 'disciplinair': 0, 'vieill': 0, 'boît': 0, 'cigar': 0, 'quelqu': 0, 'fil': 0, 'écho': 0, 'villag': 0, 'oiseaux': 0, 'forêt': 0, 'venez': 0, 'capital': 0, 'fêter': 0, 'cadencé': 0, 'prise': 0, 'bastil': 0, 'quatorz': 0, 'juillet': 0, 'sénégal': 0, 'dépatrié': 0, 'expatrié': 0, 'naturalisé': 0, 'indochinoi': 0, 'jongleur': 0, 'innoc': 0, 'couteaux': 0, 'vendiez': 0, 'autrefoi': 0, 'terrass': 0, 'café': 0, 'joli': 0, 'dragon': 0, 'papier': 0, 'plié': 0, 'tôt': 0, 'grandi': 0, 'si': 0, 'vite': 0, 'allé': 0, 'dormez': 0, 'aujourd': 0, 'hui': 0, 'retour': 0, 'bomb': 0, 'incendiair': 0, 'labour': 0, 'rizièr': 0, 'renvoyé': 0, 'monnai': 0, 'retourné': 0, 'do': 0, 'étrang': 0, 'étranger': 0, 'mal': 0, 'vivez': 0, 'mourez': 0, 'deux': 0, 'quatr': 0, 'huit': 0, 'font': 0, 'seize…': 0, 'répétez': 0, '!': 0, 'oiseau-lyr': 0, 'qui': 0, 'pass': 0, 'ciel': 0, 'l': 0, 'entend': 0, ':': 0, 'sauve-moi': 0, 'joue': 0, 'oiseau': 0, 'descend': 0, 'quatre…': 0, 'lui…': 0, 'seiz': 0, '?': 0, 'surtout': 0, 'trente-deux': 0, 'de': 0, 'façon': 0, 'vont': 1, 'caché': 0, 'dan': 0, 'pupitr': 0, 'tour': 0, 'fichent': 0, 'camp': 0, 'ni': 0, 'un': 0, 'également': 0, 'chant': 0, 'crie': 0, 'quand': 0, 'fini': 0, 'pitr': 0, 'écoutent': 0, 'mur': 0, 'class': 0, 's': 0, 'écroulent': 0, 'vitr': 0, 'redevienn': 0, 'sabl': 0, 'encr': 0, 'redevi': 0, 'eau': 1, 'arbr': 0, 'la': 0, 'craie': 0, 'falais': 0, 'porte-plum': 0, 'être': 0, 'ang': 0, 'âne': 0, 'étrâne': 0, 'veut': 0, 'haussant': 0, 'ail': 0, 'pourtant': 0, 'tapant': 0, 'vous-mêm': 0, 'envol': 0, 'sali': 1, 'excus': 1, 'homme-sandwich': 1, 'prospectu': 1, 'armé': 1, 'salut': 1, 'là': 1, 'froissé': 1, 'ruisseau': 1, 'couler': 1, 'pardonnez-moi': 1, 'cett': 1, 'offens': 1, 'éboueur': 1, 'passer': 1, 'valet': 1, 'mécaniqu': 1, 'effacé': 1, 'dirai': 1, 'salu': 1, 'plein': 1, 'ogress': 1, 'charmant': 1, 'comm': 1, 'cont': 1, 'chinoi': 1, 'plantent': 1, 'épée': 1, 'cristal': 1, 'plaisir': 1, 'plaie': 1, 'heureus': 1, 'désir': 1, 'grâce': 1}\n"
          ]
        }
      ]
    },
    {
      "cell_type": "code",
      "source": [],
      "metadata": {
        "id": "UHM8ldjVaIQX"
      },
      "execution_count": 5,
      "outputs": []
    }
  ]
}